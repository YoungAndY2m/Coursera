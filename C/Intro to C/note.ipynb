{
 "cells": [
  {
   "cell_type": "markdown",
   "metadata": {},
   "source": [
    "## Programming Fundamental\n",
    "1. Declare a variable: type name;\n",
    "    - e.g. int myVar;\n",
    "2. Assign a variable: box to change = new value;\n",
    "    - e.g. myVal = 3;\n",
    "3. Using Function for Abstraction\n",
    "    - Separate interface (what) from implementation (how)\n",
    "    - Function: Gives a name to a parameterized computation\n",
    "    - Format: return_type name (param list) {function body}\n",
    "4. Scope\n",
    "    - the region of code in which it is visible\n",
    "    - ![scope](image/scope.jpg)"
   ]
  }
 ],
 "metadata": {
  "language_info": {
   "name": "python"
  }
 },
 "nbformat": 4,
 "nbformat_minor": 2
}
