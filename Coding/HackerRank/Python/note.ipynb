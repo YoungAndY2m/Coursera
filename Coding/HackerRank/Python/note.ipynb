{
 "cells": [
  {
   "cell_type": "markdown",
   "metadata": {},
   "source": [
    "#### Python\n",
    "- Introduction\n",
    "- Basic Data Types\n",
    "- Strings"
   ]
  },
  {
   "cell_type": "code",
   "execution_count": null,
   "metadata": {},
   "outputs": [],
   "source": [
    "\"\"\"\n",
    "Difference between // and /\n",
    "// : int\n",
    "/  : float\n",
    "\n",
    "print(\"\" * int(calculation with /)) # 一定要用int, str不可以和float相乘\n",
    "\"\"\"\n",
    "print(f\"{3 // 5}\") # int result - 0\n",
    "print(f\"{3 / 5}\") # float result - 0.6"
   ]
  },
  {
   "cell_type": "code",
   "execution_count": null,
   "metadata": {},
   "outputs": [],
   "source": [
    "\"\"\"\n",
    "Multiple line input:\n",
    "\n",
    "for loop (int(input())) - the first line contains N number of data inputs\n",
    "The subsequent 2N lines describe info of the data\n",
    "\"\"\"\n",
    "for _ in range(int(input())):\n",
    "    name = input()\n",
    "    score = float(input())"
   ]
  },
  {
   "cell_type": "code",
   "execution_count": null,
   "metadata": {},
   "outputs": [],
   "source": [
    "\"\"\"\n",
    "Usage of input num of the following lines:\n",
    "\n",
    "Especially for the name, *line part\n",
    "\"\"\"\n",
    "\n",
    "if __name__ == '__main__':\n",
    "\n",
    "    n = int(input())\n",
    "    student_marks = {}\n",
    "    for _ in range(n):\n",
    "        name, *line = input().split()\n",
    "        scores = list(map(float, line))\n",
    "        student_marks[name] = scores\n",
    "    query_name = input()"
   ]
  },
  {
   "cell_type": "code",
   "execution_count": null,
   "metadata": {},
   "outputs": [],
   "source": [
    "\"\"\"\n",
    "List methods:\n",
    "- insert i e: Insert integer e at position i.\n",
    "- print: Print the list.\n",
    "- remove e: Delete the first occurrence of integer .\n",
    "- append e: Insert integer  at the end of the list.\n",
    "- sort: Sort the list.\n",
    "- pop: Pop the last element from the list.\n",
    "- reverse: Reverse the list.\n",
    "\"\"\"\n",
    "if __name__ == '__main__':\n",
    "    N = int(input())\n",
    "    result = []\n",
    "    for _ in range(N):\n",
    "        command = input()\n",
    "        match command:\n",
    "            case command if command.startswith(\"insert\"):\n",
    "                word, i, e = command.split(\" \")\n",
    "                result.insert(int(i), int(e))\n",
    "            case command if command.startswith(\"print\"):\n",
    "                print(result)\n",
    "            case command if command.startswith(\"remove\"):\n",
    "                word, e = command.split(\" \")\n",
    "                result.remove(int(e))\n",
    "            case command if command.startswith(\"append\"):\n",
    "                word, e = command.split(\" \")\n",
    "                result.append(int(e))\n",
    "            case command if command.startswith(\"sort\"):\n",
    "                result.sort()\n",
    "            case command if command.startswith(\"pop\"):\n",
    "                result.pop()\n",
    "            case command if command.startswith(\"reverse\"):\n",
    "                result.reverse()"
   ]
  },
  {
   "cell_type": "code",
   "execution_count": null,
   "metadata": {},
   "outputs": [],
   "source": [
    "\"\"\"\n",
    "List comprehension - Ternary Expression\n",
    "List to String\n",
    "\"\".join([var if expr else var for sth in iterator])\n",
    "\"\"\"\n",
    "def swap_case(s):\n",
    "    return \"\".join([chr.upper() if chr.islower() else chr.lower() for chr in s])\n",
    "\n",
    "if __name__ == '__main__':\n",
    "    s = input()\n",
    "    result = swap_case(s)\n",
    "    print(result)"
   ]
  },
  {
   "cell_type": "code",
   "execution_count": null,
   "metadata": {},
   "outputs": [],
   "source": [
    "\"\"\"\n",
    "*** Python any(iterable) check whether the iterable contains at least one True\n",
    "    可以和map配套使用\n",
    "\n",
    "String -> List: 直接用list(str)\n",
    "    \n",
    "String built-in methods\n",
    "- str.isalnum() - string is made of alphanumeric characters\n",
    "- str.islpha()\n",
    "- str.isdigit()\n",
    "- str.islower()\n",
    "- str.isupper()\n",
    "\"\"\"\n",
    "if __name__ == '__main__':\n",
    "    s = input()\n",
    "    print(any(map(str.isalnum, list(s))))\n",
    "    print(any(map(str.isalpha, list(s))))\n",
    "    print(any(map(str.isdigit, list(s))))\n",
    "    print(any(map(str.islower, list(s))))\n",
    "    print(any(map(str.isupper, list(s))))"
   ]
  },
  {
   "cell_type": "code",
   "execution_count": null,
   "metadata": {},
   "outputs": [],
   "source": [
    "\"\"\"\n",
    "TextWrap\n",
    "\n",
    "import textwrap\n",
    "textwrap.wrap(string, width=max_width)\n",
    "\"\"\"\n",
    "import textwrap\n",
    "\n",
    "def wrap(string, max_width):\n",
    "    return \"\\n\".join(textwrap.wrap(string, width=max_width))\n",
    "\n",
    "if __name__ == '__main__':\n",
    "    string, max_width = input(), int(input())\n",
    "    result = wrap(string, max_width)\n",
    "    print(result)"
   ]
  },
  {
   "cell_type": "code",
   "execution_count": null,
   "metadata": {},
   "outputs": [],
   "source": [
    "\"\"\"\n",
    "Text Alignment\n",
    "- str.ljust(width, 'placement')\n",
    "- str.center(width, 'placement')\n",
    "- str.rjust(width, 'placement')\n",
    "\"\"\"\n"
   ]
  }
 ],
 "metadata": {
  "kernelspec": {
   "display_name": "Python 3",
   "language": "python",
   "name": "python3"
  },
  "language_info": {
   "codemirror_mode": {
    "name": "ipython",
    "version": 3
   },
   "file_extension": ".py",
   "mimetype": "text/x-python",
   "name": "python",
   "nbconvert_exporter": "python",
   "pygments_lexer": "ipython3",
   "version": "3.11.4"
  }
 },
 "nbformat": 4,
 "nbformat_minor": 2
}
