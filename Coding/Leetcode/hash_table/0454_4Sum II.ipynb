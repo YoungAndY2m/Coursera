{
 "cells": [
  {
   "cell_type": "markdown",
   "metadata": {},
   "source": [
    "#### 454. 4Sum II\n",
    "Given four integer arrays nums1, nums2, nums3, and nums4 all of length n, return the number of tuples (i, j, k, l) such that:\n",
    "\n",
    "0 <= i, j, k, l < n\n",
    "\n",
    "nums1[i] + nums2[j] + nums3[k] + nums4[l] == 0"
   ]
  },
  {
   "cell_type": "code",
   "execution_count": null,
   "metadata": {},
   "outputs": [],
   "source": [
    "'''\n",
    "Brute Force - O(n^4)\n",
    "Separate - O(n^2)\n",
    "'''\n",
    "class Solution:\n",
    "    def fourSumCount(self, nums1: List[int], nums2: List[int], nums3: List[int], nums4: List[int]) -> int:\n",
    "        count = 0\n",
    "        a_b_dict = dict()\n",
    "        # loop through the first two - O(n^2)\n",
    "        for num1 in nums1:\n",
    "            for num2 in nums2:\n",
    "                appear = a_b_dict.get(num1+num2, 0) + 1\n",
    "                a_b_dict[num1+num2] = appear\n",
    "        # loop through the last two\n",
    "        for num3 in nums3:\n",
    "            for num4 in nums4:\n",
    "                diff = 0 - num3 - num4\n",
    "                if diff in a_b_dict:\n",
    "                    count += a_b_dict[diff]\n",
    "        return count"
   ]
  }
 ],
 "metadata": {
  "language_info": {
   "name": "python"
  }
 },
 "nbformat": 4,
 "nbformat_minor": 2
}
