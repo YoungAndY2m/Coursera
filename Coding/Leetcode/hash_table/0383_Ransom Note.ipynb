{
 "cells": [
  {
   "cell_type": "markdown",
   "metadata": {},
   "source": [
    "#### 383. Ransom Note\n",
    "Given two strings ransomNote and magazine, return true if ransomNote can be constructed by using the letters from magazine and false otherwise.\n",
    "\n",
    "Each letter in magazine can only be used once in ransomNote."
   ]
  },
  {
   "cell_type": "code",
   "execution_count": null,
   "metadata": {},
   "outputs": [],
   "source": [
    "class Solution:\n",
    "    def canConstruct(self, ransomNote: str, magazine: str) -> bool:\n",
    "        letters = dict().fromkeys([chr(ord('a') + i) for i in range(26)], 0)\n",
    "        for ch in magazine:\n",
    "            letters[ch] += 1\n",
    "        for ch in ransomNote:\n",
    "            letters[ch] -= 1\n",
    "        return all(value >= 0 for value in letters.values())"
   ]
  },
  {
   "cell_type": "code",
   "execution_count": null,
   "metadata": {},
   "outputs": [],
   "source": [
    "class Solution:\n",
    "    def canConstruct(self, ransomNote: str, magazine: str) -> bool:\n",
    "        from collections import Counter\n",
    "        r_dict = Counter(ransomNote)\n",
    "        m_dict = Counter(magazine)\n",
    "        return r_dict & m_dict == r_dict"
   ]
  }
 ],
 "metadata": {
  "language_info": {
   "name": "python"
  }
 },
 "nbformat": 4,
 "nbformat_minor": 2
}
