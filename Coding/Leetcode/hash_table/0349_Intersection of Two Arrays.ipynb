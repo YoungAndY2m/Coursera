{
 "cells": [
  {
   "cell_type": "markdown",
   "metadata": {},
   "source": [
    "#### 349. Intersection of Two Arrays\n",
    "Given two integer arrays nums1 and nums2, return an array of their intersection. Each element in the result must be unique and you may return the result in any order."
   ]
  },
  {
   "cell_type": "code",
   "execution_count": null,
   "metadata": {},
   "outputs": [],
   "source": [
    "class Solution:\n",
    "    def intersection(self, nums1: List[int], nums2: List[int]) -> List[int]:\n",
    "        result = set()\n",
    "        num_1 = set(nums1)\n",
    "        for num in nums2:\n",
    "            if num in num_1:\n",
    "                result.add(num)\n",
    "        return result"
   ]
  },
  {
   "cell_type": "code",
   "execution_count": null,
   "metadata": {},
   "outputs": [],
   "source": [
    "class Solution:\n",
    "    def intersection(self, nums1: List[int], nums2: List[int]) -> List[int]:\n",
    "        return set(nums1).intersection(set(nums2))"
   ]
  },
  {
   "cell_type": "code",
   "execution_count": null,
   "metadata": {},
   "outputs": [],
   "source": [
    "class Solution:\n",
    "    def intersection(self, nums1: List[int], nums2: List[int]) -> List[int]:\n",
    "    # 使用哈希表存储一个数组中的所有元素\n",
    "        table = {}\n",
    "        for num in nums1:\n",
    "            table[num] = table.get(num, 0) + 1\n",
    "        \n",
    "        # 使用集合存储结果\n",
    "        res = set()\n",
    "        for num in nums2:\n",
    "            if num in table:\n",
    "                res.add(num)\n",
    "                del table[num]\n",
    "        \n",
    "        return list(res)"
   ]
  }
 ],
 "metadata": {
  "language_info": {
   "name": "python"
  }
 },
 "nbformat": 4,
 "nbformat_minor": 2
}
