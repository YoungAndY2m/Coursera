{
 "cells": [
  {
   "cell_type": "markdown",
   "metadata": {},
   "source": [
    "#### 18. Four Sum\n",
    "Given an array nums of n integers, return an array of all the unique quadruplets [nums[a], nums[b], nums[c], nums[d]] such that:\n",
    "\n",
    "0 <= a, b, c, d < n\n",
    "a, b, c, and d are distinct.\n",
    "nums[a] + nums[b] + nums[c] + nums[d] == target\n",
    "You may return the answer in any order."
   ]
  },
  {
   "cell_type": "code",
   "execution_count": null,
   "metadata": {},
   "outputs": [],
   "source": [
    "class Solution:\n",
    "    def fourSum(self, nums: List[int], target: int) -> List[List[int]]:\n",
    "        nums.sort()\n",
    "        n = len(nums)\n",
    "        result = []\n",
    "        if n < 4:\n",
    "            return []\n",
    "        for k in range(n):\n",
    "            if nums[k] > target and target > 0 and nums[k] > 0: \n",
    "                break\n",
    "            if k > 0 and nums[k] == nums[k-1]: \n",
    "                continue\n",
    "            for i in range(k+1, n):\n",
    "                first_two = nums[k] + nums[i]\n",
    "                if first_two > target and i >= 0 and target > 0: \n",
    "                    break\n",
    "                if i > k+1 and nums[i] == nums[i-1]: \n",
    "                    continue\n",
    "                l, r = i+1, n - 1\n",
    "                while l < r:\n",
    "                    sum_4 = first_two + nums[l] + nums[r]\n",
    "                    if sum_4 > target:\n",
    "                        r -= 1\n",
    "                    elif sum_4 < target:\n",
    "                        l += 1\n",
    "                    else:\n",
    "                        result.append([nums[k], nums[i], nums[l], nums[r]])\n",
    "                        while l < r and nums[r] == nums[r-1]: r -= 1\n",
    "                        while l < r and nums[l] == nums[l+1]: l += 1\n",
    "                        l += 1\n",
    "                        r -= 1\n",
    "        return result "
   ]
  }
 ],
 "metadata": {
  "language_info": {
   "name": "python"
  }
 },
 "nbformat": 4,
 "nbformat_minor": 2
}
