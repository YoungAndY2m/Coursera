{
 "cells": [
  {
   "cell_type": "markdown",
   "metadata": {},
   "source": [
    "#### 49. Group Anagram\n",
    "Given an array of strings strs, group the anagrams together. You can return the answer in any order.\n",
    "\n",
    "An Anagram is a word or phrase formed by rearranging the letters of a different word or phrase, typically using all the original letters exactly once."
   ]
  },
  {
   "cell_type": "code",
   "execution_count": null,
   "metadata": {},
   "outputs": [],
   "source": [
    "class Solution:\n",
    "    def groupAnagrams(self, strs: List[str]) -> List[List[str]]:\n",
    "        anagram = {}\n",
    "\n",
    "        for word in strs:\n",
    "\n",
    "            temp_word = ''.join(sorted(word))\n",
    "\n",
    "            if temp_word in anagram:\n",
    "                anagram[temp_word].append(word)\n",
    "\n",
    "            else:\n",
    "                anagram[temp_word] = [word]  \n",
    "\n",
    "        return list(anagram.values())  "
   ]
  },
  {
   "cell_type": "code",
   "execution_count": null,
   "metadata": {},
   "outputs": [],
   "source": [
    "from collections import defaultdict\n",
    "\n",
    "\n",
    "class Solution:\n",
    "    def groupAnagrams(self, strs: List[str]) -> List[List[str]]:\n",
    "        result = defaultdict(list)\n",
    "        for word in strs:\n",
    "            key = ''.join(sorted(word))\n",
    "            result[key].append(word)\n",
    "        return list(result.values())"
   ]
  }
 ],
 "metadata": {
  "language_info": {
   "name": "python"
  }
 },
 "nbformat": 4,
 "nbformat_minor": 2
}
