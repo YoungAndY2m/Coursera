{
 "cells": [
  {
   "cell_type": "markdown",
   "metadata": {},
   "source": [
    "#### 242. Valid Anagram\n",
    "Given two strings s and t, return true if t is an anagram of s, and false otherwise.\n",
    "\n",
    "An Anagram is a word or phrase formed by rearranging the letters of a different word or phrase, typically using all the original letters exactly once.\n",
    "\n",
    "- Example 1:\n",
    "  - Input: s = \"anagram\", t = \"nagaram\"\n",
    "  - Output: true\n",
    "- Example 2:\n",
    "  - Input: s = \"rat\", t = \"car\"\n",
    "  - Output: false"
   ]
  },
  {
   "cell_type": "code",
   "execution_count": null,
   "metadata": {},
   "outputs": [],
   "source": [
    "class Solution:\n",
    "    def isAnagram(self, s: str, t: str) -> bool:\n",
    "        alpha_dict = dict().fromkeys([chr(ord('a') + i) for i in range(26)], 0)\n",
    "        for ch in s.lower():\n",
    "            count = alpha_dict.get(ch) + 1\n",
    "            alpha_dict[ch] = count\n",
    "        for ch in t.lower():\n",
    "            count = alpha_dict.get(ch) - 1\n",
    "            alpha_dict[ch] = count\n",
    "        return all(value == 0 for value in alpha_dict.values())"
   ]
  },
  {
   "cell_type": "code",
   "execution_count": null,
   "metadata": {},
   "outputs": [],
   "source": [
    "class Solution:\n",
    "    def isAnagram(self, s: str, t: str) -> bool:\n",
    "        record = [0] * 26\n",
    "        for i in s:\n",
    "            #并不需要记住字符a的ASCII，只要求出一个相对数值就可以了\n",
    "            record[ord(i) - ord(\"a\")] += 1\n",
    "        for i in t:\n",
    "            record[ord(i) - ord(\"a\")] -= 1\n",
    "        for i in range(26):\n",
    "            if record[i] != 0:\n",
    "                #record数组如果有的元素不为零0，说明字符串s和t 一定是谁多了字符或者谁少了字符。\n",
    "                return False\n",
    "        return True"
   ]
  },
  {
   "cell_type": "code",
   "execution_count": null,
   "metadata": {},
   "outputs": [],
   "source": [
    "'''\n",
    "DefaultDict\n",
    "'''\n",
    "class Solution:\n",
    "    def isAnagram(self, s: str, t: str) -> bool:\n",
    "        from collections import defaultdict\n",
    "        \n",
    "        s_dict = defaultdict(int)\n",
    "        t_dict = defaultdict(int)\n",
    "        for x in s:\n",
    "            s_dict[x] += 1\n",
    "        \n",
    "        for x in t:\n",
    "            t_dict[x] += 1\n",
    "        return s_dict == t_dict"
   ]
  },
  {
   "cell_type": "code",
   "execution_count": null,
   "metadata": {},
   "outputs": [],
   "source": [
    "'''\n",
    "Counter\n",
    "'''\n",
    "class Solution(object):\n",
    "    def isAnagram(self, s: str, t: str) -> bool:\n",
    "        from collections import Counter\n",
    "        a_count = Counter(s)\n",
    "        b_count = Counter(t)\n",
    "        return a_count == b_count"
   ]
  }
 ],
 "metadata": {
  "language_info": {
   "name": "python"
  }
 },
 "nbformat": 4,
 "nbformat_minor": 2
}
