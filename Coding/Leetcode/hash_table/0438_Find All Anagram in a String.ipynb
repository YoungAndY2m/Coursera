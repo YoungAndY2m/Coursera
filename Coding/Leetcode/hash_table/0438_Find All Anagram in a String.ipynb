{
 "cells": [
  {
   "cell_type": "markdown",
   "metadata": {},
   "source": [
    "#### 438. Find All Anagram in a String\n",
    "Given two strings s and p, return an array of all the start indices of p's anagrams in s. You may return the answer in any order.\n",
    "\n",
    "An Anagram is a word or phrase formed by rearranging the letters of a different word or phrase, typically using all the original letters exactly once."
   ]
  },
  {
   "cell_type": "code",
   "execution_count": null,
   "metadata": {},
   "outputs": [],
   "source": [
    "class Solution:\n",
    "    def findAnagrams(self, s: str, p: str) -> List[int]:\n",
    "        slow = 0\n",
    "        result = defaultdict(list)\n",
    "        s_list = list(s)\n",
    "        for fast in range(len(p) - 1, len(s)):\n",
    "            if s_list[fast] in p:\n",
    "                key = ''.join(sorted(s[slow:fast+1]))\n",
    "                result[key].append(slow)\n",
    "            slow += 1\n",
    "        find_key = ''.join(sorted(p))\n",
    "        return result[find_key]\n",
    "        "
   ]
  },
  {
   "cell_type": "code",
   "execution_count": null,
   "metadata": {},
   "outputs": [],
   "source": [
    "class Solution:\n",
    "    def findAnagrams(self, s: str, p: str) -> List[int]:\n",
    "        char_freqs, indices, len_p, len_s = defaultdict(int), [], len(p), len(s)\n",
    "        \n",
    "        # s cannot have p anangrams if len(p) > len(s)\n",
    "        if len_p > len_s:\n",
    "            return indices\n",
    "\n",
    "        # build map of character frequencies in p\n",
    "        for char in p:\n",
    "            char_freqs[char] += 1\n",
    "\n",
    "        # initial full pass over the window, except last element which we will pass over later\n",
    "        for i in range(len_p - 1):\n",
    "            if s[i] in char_freqs:\n",
    "                char_freqs[s[i]] -= 1\n",
    "            \n",
    "        # slide the window with stride 1, adding the value \"sliding out\" and subtracting the value \"sliding in\"\n",
    "        for i in range(-1, len_s - len_p + 1):\n",
    "            if i > -1 and s[i] in char_freqs:\n",
    "                char_freqs[s[i]] += 1\n",
    "            if i + len_p < len_s and s[i + len_p] in char_freqs: \n",
    "                char_freqs[s[i + len_p]] -= 1\n",
    "                \n",
    "            # check whether we encountered an anagram by seeing if all frequencies add up to 0\n",
    "            if not any(char_freqs.values()): \n",
    "                indices.append(i + 1)\n",
    "                \n",
    "        return indices"
   ]
  }
 ],
 "metadata": {
  "language_info": {
   "name": "python"
  }
 },
 "nbformat": 4,
 "nbformat_minor": 2
}
