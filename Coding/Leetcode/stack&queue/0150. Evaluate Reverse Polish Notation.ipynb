{
 "cells": [
  {
   "cell_type": "markdown",
   "metadata": {},
   "source": [
    "#### 150. Evaluate Reverse Polish Notation\n",
    "You are given an array of strings tokens that represents an arithmetic expression in a Reverse Polish Notation.\n",
    "\n",
    "Evaluate the expression. Return an integer that represents the value of the expression.\n",
    "\n",
    "Note that:\n",
    "\n",
    "The valid operators are '+', '-', '*', and '/'.\n",
    "Each operand may be an integer or another expression.\n",
    "The division between two integers always truncates toward zero.\n",
    "There will not be any division by zero.\n",
    "The input represents a valid arithmetic expression in a reverse polish notation.\n",
    "The answer and all the intermediate calculations can be represented in a 32-bit integer."
   ]
  },
  {
   "cell_type": "code",
   "execution_count": null,
   "metadata": {},
   "outputs": [],
   "source": [
    "from operator import add, sub, mul\n",
    "\n",
    "class Solution:\n",
    "    op_map = {'+': add, '-': sub, '*': mul, '/': lambda x, y: int(x / y)}\n",
    "    \n",
    "    def evalRPN(self, tokens: List[str]) -> int:\n",
    "        stack = []\n",
    "        for token in tokens:\n",
    "            if token not in {'+', '-', '*', '/'}:\n",
    "                stack.append(int(token))\n",
    "            else:\n",
    "                op2 = stack.pop()\n",
    "                op1 = stack.pop()\n",
    "                stack.append(self.op_map[token](op1, op2))  # 第一个出来的在运算符后面\n",
    "        return stack.pop()"
   ]
  },
  {
   "cell_type": "code",
   "execution_count": null,
   "metadata": {},
   "outputs": [],
   "source": [
    "class Solution:\n",
    "    def evalRPN(self, tokens: List[str]) -> int:\n",
    "        def calculate(num1, num2, operator):\n",
    "            match operator:\n",
    "                case '+':\n",
    "                    return num1 + num2\n",
    "                case '-':\n",
    "                    return num1 - num2\n",
    "                case '*':\n",
    "                    return num1 * num2\n",
    "                case '/':\n",
    "                    return int(num1 / num2)\n",
    "\n",
    "        stack = []\n",
    "        valid = ['+', '-', '*', '/']\n",
    "        for ch in tokens:\n",
    "            if stack and ch in valid:\n",
    "                num2 = stack.pop()\n",
    "                num1 = stack.pop()\n",
    "                stack.append(calculate(num1, num2, ch))\n",
    "            else:\n",
    "                stack.append(int(ch))\n",
    "        return stack.pop()\n"
   ]
  }
 ],
 "metadata": {
  "language_info": {
   "name": "python"
  }
 },
 "nbformat": 4,
 "nbformat_minor": 2
}
