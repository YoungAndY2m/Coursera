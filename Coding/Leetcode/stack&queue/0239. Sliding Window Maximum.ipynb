{
 "cells": [
  {
   "cell_type": "markdown",
   "metadata": {},
   "source": [
    "#### 239. Sliding Window Maximum\n",
    "You are given an array of integers nums, there is a sliding window of size k which is moving from the very left of the array to the very right. You can only see the k numbers in the window. Each time the sliding window moves right by one position.\n",
    "\n",
    "Return the max sliding window."
   ]
  },
  {
   "cell_type": "code",
   "execution_count": null,
   "metadata": {},
   "outputs": [],
   "source": [
    "class MyQueue:\n",
    "    def __init__(self):\n",
    "        self.que = deque()\n",
    "\n",
    "    def pop(self, x):\n",
    "        if self.que and self.que[0] == x:\n",
    "            self.que.popleft()\n",
    "    \n",
    "    def push(self, x):\n",
    "        while self.que and x > self.que[-1]:\n",
    "            self.que.pop()\n",
    "        self.que.append(x)\n",
    "    \n",
    "    def get_max(self):\n",
    "        return self.que[0]\n",
    "\n",
    "class Solution:\n",
    "    def maxSlidingWindow(self, nums: List[int], k: int) -> List[int]:\n",
    "        result = []\n",
    "        queue = MyQueue()\n",
    "        for i in range(k):\n",
    "            queue.push(nums[i])\n",
    "        result.append(queue.get_max())\n",
    "        for i in range(k, len(nums)):\n",
    "            queue.pop(nums[i - k])\n",
    "            queue.push(nums[i])\n",
    "            result.append(queue.get_max())\n",
    "        return result\n"
   ]
  },
  {
   "cell_type": "code",
   "execution_count": null,
   "metadata": {},
   "outputs": [],
   "source": [
    "class Solution:\n",
    "    def maxSlidingWindow(self, nums: List[int], k: int) -> List[int]:\n",
    "        n=len(nums)\n",
    "        seen=[]\n",
    "        ans=[]   \n",
    "        for i in range(n):\n",
    "            if seen and seen[0]==i-k:\n",
    "                seen.pop(0)\n",
    "\n",
    "            while seen and nums[seen[-1]]<nums[i]:\n",
    "                seen.pop()\n",
    "\n",
    "            seen.append(i)\n",
    "            if i>=k-1:\n",
    "                ans.append(nums[seen[0]])\n",
    "        return ans       "
   ]
  },
  {
   "cell_type": "code",
   "execution_count": null,
   "metadata": {},
   "outputs": [],
   "source": [
    "from collections import deque\n",
    "\n",
    "class Solution:\n",
    "    def maxSlidingWindow(self, nums, k):\n",
    "\n",
    "        # Initialize deque to store indices\n",
    "        deque_indices = deque()\n",
    "        result = []\n",
    "\n",
    "        for i in range(len(nums)):\n",
    "            # Remove indices that are out of the current window\n",
    "            while deque_indices and deque_indices[0] <= i - k:\n",
    "                deque_indices.popleft()\n",
    "\n",
    "            # Remove elements from the end of deque that are smaller than the current element\n",
    "            while deque_indices and nums[i] >= nums[deque_indices[-1]]:\n",
    "                deque_indices.pop()\n",
    "\n",
    "            deque_indices.append(i)\n",
    "\n",
    "            # Add maximum of the current window to the result array\n",
    "            if i >= k - 1:\n",
    "                result.append(nums[deque_indices[0]])\n",
    "\n",
    "        return result"
   ]
  }
 ],
 "metadata": {
  "language_info": {
   "name": "python"
  }
 },
 "nbformat": 4,
 "nbformat_minor": 2
}
