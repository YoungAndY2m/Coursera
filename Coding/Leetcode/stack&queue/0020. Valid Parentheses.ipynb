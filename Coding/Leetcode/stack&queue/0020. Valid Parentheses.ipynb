{
 "cells": [
  {
   "cell_type": "markdown",
   "metadata": {},
   "source": [
    "#### 20. Valid Parentheses\n",
    "Given a string s containing just the characters '(', ')', '{', '}', '[' and ']', determine if the input string is valid.\n",
    "\n",
    "An input string is valid if:\n",
    "\n",
    "Open brackets must be closed by the same type of brackets.\n",
    "Open brackets must be closed in the correct order.\n",
    "Every close bracket has a corresponding open bracket of the same type.\n"
   ]
  },
  {
   "cell_type": "code",
   "execution_count": null,
   "metadata": {},
   "outputs": [],
   "source": [
    "class Solution:\n",
    "    def isValid(self, s: str) -> bool:\n",
    "        valid = {\n",
    "            '(' : ')',\n",
    "            '{' : '}',\n",
    "            '[' : ']'\n",
    "        }\n",
    "        stack = deque()\n",
    "        for char in s:\n",
    "            if char in valid:\n",
    "                stack.append(valid[char])\n",
    "            else:\n",
    "                if len(stack) != 0:\n",
    "                    right = stack.pop()\n",
    "                    if char != right: \n",
    "                        return False\n",
    "                else:\n",
    "                    return False\n",
    "        return len(stack) == 0"
   ]
  },
  {
   "cell_type": "code",
   "execution_count": null,
   "metadata": {},
   "outputs": [],
   "source": [
    "class Solution:\n",
    "    def isValid(self, s: str) -> bool:\n",
    "        valid = {\n",
    "            '(':')',\n",
    "            '{':'}',\n",
    "            '[':']'\n",
    "        }\n",
    "        stack = []\n",
    "        for ch in s:\n",
    "            if ch in valid:\n",
    "                stack.append(ch)\n",
    "            elif len(stack) == 0 or ch != valid[stack.pop()]:\n",
    "                return False\n",
    "        return len(stack) == 0\n"
   ]
  }
 ],
 "metadata": {
  "language_info": {
   "name": "python"
  }
 },
 "nbformat": 4,
 "nbformat_minor": 2
}
