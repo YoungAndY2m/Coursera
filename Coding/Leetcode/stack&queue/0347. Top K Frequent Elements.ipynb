{
 "cells": [
  {
   "cell_type": "markdown",
   "metadata": {},
   "source": [
    "#### 347. Top K Frequent Elements\n",
    "Given an integer array nums and an integer k, return the k most frequent elements. You may return the answer in any order."
   ]
  },
  {
   "cell_type": "code",
   "execution_count": null,
   "metadata": {},
   "outputs": [],
   "source": [
    "import heapq\n",
    "class Solution:\n",
    "    def topKFrequent(self, nums: List[int], k: int) -> List[int]:\n",
    "        num = defaultdict(int)\n",
    "        for n in nums:\n",
    "            num[n] += 1\n",
    "\n",
    "        pri_que = []\n",
    "        for key, fre in num.items():\n",
    "            heapq.heappush(pri_que, (fre, key))\n",
    "            if len(pri_que) > k:\n",
    "                heapq.heappop(pri_que)\n",
    "        \n",
    "        result = []\n",
    "        for i in range(k):\n",
    "            result.append(heapq.heappop(pri_que)[1])\n",
    "\n",
    "        return result"
   ]
  }
 ],
 "metadata": {
  "language_info": {
   "name": "python"
  }
 },
 "nbformat": 4,
 "nbformat_minor": 2
}
