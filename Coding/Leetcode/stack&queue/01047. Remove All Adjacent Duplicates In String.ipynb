{
 "cells": [
  {
   "cell_type": "markdown",
   "metadata": {},
   "source": [
    "#### 1047. Remove All Adjacent Duplicates In String\n",
    "You are given a string s consisting of lowercase English letters. A duplicate removal consists of choosing two adjacent and equal letters and removing them.\n",
    "\n",
    "We repeatedly make duplicate removals on s until we no longer can.\n",
    "\n",
    "Return the final string after all such duplicate removals have been made. It can be proven that the answer is unique."
   ]
  },
  {
   "cell_type": "code",
   "execution_count": null,
   "metadata": {},
   "outputs": [],
   "source": [
    "# 方法二，使用双指针模拟栈，如果不让用栈可以作为备选方法。\n",
    "class Solution:\n",
    "    def removeDuplicates(self, s: str) -> str:\n",
    "        res = list(s)\n",
    "        slow = fast = 0\n",
    "        length = len(res)\n",
    "\n",
    "        while fast < length:\n",
    "            # 如果一样直接换，不一样会把后面的填在slow的位置\n",
    "            res[slow] = res[fast]\n",
    "            \n",
    "            # 如果发现和前一个一样，就退一格指针\n",
    "            if slow > 0 and res[slow] == res[slow - 1]:\n",
    "                slow -= 1\n",
    "            else:\n",
    "                slow += 1\n",
    "            fast += 1\n",
    "            \n",
    "        return ''.join(res[0: slow])"
   ]
  },
  {
   "cell_type": "code",
   "execution_count": null,
   "metadata": {},
   "outputs": [],
   "source": [
    "class Solution:\n",
    "    def removeDuplicates(self, s: str) -> str:\n",
    "        stack = \"\"\n",
    "        for ch in s:\n",
    "            if len(stack) > 0 and ch == stack[-1]:\n",
    "                stack = stack[0:-1]\n",
    "            else:\n",
    "                stack += ch\n",
    "        return stack"
   ]
  }
 ],
 "metadata": {
  "language_info": {
   "name": "python"
  }
 },
 "nbformat": 4,
 "nbformat_minor": 2
}
