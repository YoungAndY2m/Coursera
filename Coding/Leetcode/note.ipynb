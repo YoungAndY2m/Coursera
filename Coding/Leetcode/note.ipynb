{
 "cells": [
  {
   "cell_type": "markdown",
   "metadata": {},
   "source": [
    "#### 数组\n",
    "- 数组是存放在连续内存空间上的相同类型数据的集合\n",
    "  - 数组下标都从0开始\n",
    "  - 数组内存空间的地址是连续的\n",
    "  - 数组的元素是不能删的，只能覆盖（移动后续的element来覆盖）\n",
    "\n",
    "- 二分查找法\n",
    "  - 有序数组\n",
    "  - 无重复num（可以考虑多个binary search或者two pointers）\n",
    "  - P.S. 可以从最开始就缩小left, right的范围；善用continue来减少execute时间\n",
    "- 移除元素\n",
    "  - 数组元素是不能删除的，只能后续元素往前覆盖；-》空间没有变，后面元素整体前移\n",
    "  - P.S. 快慢双指针来代替两个for loop的brute force，但是数量小也可以直接暴力解法；同样最开始缩小快慢指针的变化区间"
   ]
  }
 ],
 "metadata": {
  "language_info": {
   "name": "python"
  }
 },
 "nbformat": 4,
 "nbformat_minor": 2
}
