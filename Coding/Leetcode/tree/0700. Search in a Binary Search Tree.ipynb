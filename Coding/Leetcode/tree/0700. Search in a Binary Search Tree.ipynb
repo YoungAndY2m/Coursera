{
 "cells": [
  {
   "cell_type": "code",
   "execution_count": null,
   "metadata": {},
   "outputs": [],
   "source": [
    "'''\n",
    "700. Search in a Binary Search Tree\n",
    "'''\n",
    "# Definition for a binary tree node.\n",
    "# class TreeNode:\n",
    "#     def __init__(self, val=0, left=None, right=None):\n",
    "#         self.val = val\n",
    "#         self.left = left\n",
    "#         self.right = right\n",
    "class Solution:\n",
    "    def searchBST(self, root: Optional[TreeNode], val: int) -> Optional[TreeNode]:\n",
    "        if not root:\n",
    "            return None\n",
    "        if root.val > val:\n",
    "            return self.searchBST(root.left, val)\n",
    "        elif root.val < val:\n",
    "            return self.searchBST(root.right, val)\n",
    "        else:\n",
    "            return root\n",
    "\n",
    "# Definition for a binary tree node.\n",
    "# class TreeNode:\n",
    "#     def __init__(self, val=0, left=None, right=None):\n",
    "#         self.val = val\n",
    "#         self.left = left\n",
    "#         self.right = right\n",
    "class Solution:\n",
    "    def searchBST(self, root: Optional[TreeNode], val: int) -> Optional[TreeNode]:\n",
    "        if not root:\n",
    "            return None\n",
    "        que = [root]\n",
    "        while que:\n",
    "            node = que.pop(0)\n",
    "            if node.val > val and node.left:\n",
    "                que.append(node.left)\n",
    "            elif node.val < val and node.right:\n",
    "                que.append(node.right)\n",
    "            elif node.val == val:\n",
    "                return node\n",
    "        return None"
   ]
  }
 ],
 "metadata": {
  "language_info": {
   "name": "python"
  }
 },
 "nbformat": 4,
 "nbformat_minor": 2
}
