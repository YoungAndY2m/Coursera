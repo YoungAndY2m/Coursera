{
 "cells": [
  {
   "cell_type": "code",
   "execution_count": null,
   "metadata": {},
   "outputs": [],
   "source": [
    "'''\n",
    "530. Minimum Absolute Difference in BST\n",
    "'''\n",
    "# Definition for a binary tree node.\n",
    "# class TreeNode:\n",
    "#     def __init__(self, val=0, left=None, right=None):\n",
    "#         self.val = val\n",
    "#         self.left = left\n",
    "#         self.right = right\n",
    "class Solution:\n",
    "    def getMinimumDifference(self, root: Optional[TreeNode]) -> int:\n",
    "        min_ = float('inf')\n",
    "        prev = None\n",
    "\n",
    "        def dfs(node):\n",
    "            # inorder: left, root, right\n",
    "            nonlocal min_, prev\n",
    "            if not node:\n",
    "                return\n",
    "            dfs(node.left)\n",
    "            if prev != None:\n",
    "                min_ = min(min_, node.val - prev)\n",
    "            prev = node.val\n",
    "            dfs(node.right)\n",
    "        \n",
    "        dfs(root)\n",
    "        return min_\n",
    "\n",
    "\n",
    "\n",
    "class Solution:\n",
    "    def getMinimumDifference(self, root):\n",
    "        stack = []\n",
    "        cur = root\n",
    "        pre = None\n",
    "        result = float('inf')\n",
    "\n",
    "        while cur is not None or len(stack) > 0:\n",
    "            if cur is not None:\n",
    "                stack.append(cur)  # 将访问的节点放进栈\n",
    "                cur = cur.left  # 左\n",
    "            else:\n",
    "                cur = stack.pop()\n",
    "                if pre is not None:  # 中\n",
    "                    result = min(result, cur.val - pre.val)\n",
    "                pre = cur\n",
    "                cur = cur.right  # 右\n",
    "\n",
    "        return result\n"
   ]
  }
 ],
 "metadata": {
  "language_info": {
   "name": "python"
  }
 },
 "nbformat": 4,
 "nbformat_minor": 2
}
