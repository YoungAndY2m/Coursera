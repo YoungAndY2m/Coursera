{
 "cells": [
  {
   "cell_type": "code",
   "execution_count": null,
   "metadata": {},
   "outputs": [],
   "source": [
    "'''\n",
    "538. Convert BST to Greater Tree\n",
    "'''\n",
    "# Definition for a binary tree node.\n",
    "# class TreeNode:\n",
    "#     def __init__(self, val=0, left=None, right=None):\n",
    "#         self.val = val\n",
    "#         self.left = left\n",
    "#         self.right = right\n",
    "class Solution:\n",
    "    def convertBST(self, root: Optional[TreeNode]) -> Optional[TreeNode]:\n",
    "        pre = 0\n",
    "        def traversal(cur, pre):\n",
    "            if not cur:\n",
    "                return None\n",
    "            traversal(cur.right,pre)\n",
    "            cur.val += pre\n",
    "            pre = cur.val\n",
    "            traversal(cur.left, pre)\n",
    "        traversal(root, pre)\n",
    "        return root\n",
    "    \n",
    "class Solution:\n",
    "    def __init__(self):\n",
    "        self.pre = 0  # 记录前一个节点的数值\n",
    "    \n",
    "    def traversal(self, root):\n",
    "        stack = []\n",
    "        cur = root\n",
    "        while cur or stack:\n",
    "            if cur:\n",
    "                stack.append(cur)\n",
    "                cur = cur.right  # 右\n",
    "            else:\n",
    "                cur = stack.pop()  # 中\n",
    "                cur.val += self.pre\n",
    "                self.pre = cur.val\n",
    "                cur = cur.left  # 左\n",
    "    \n",
    "    def convertBST(self, root):\n",
    "        self.pre = 0\n",
    "        self.traversal(root)\n",
    "        return root\n"
   ]
  }
 ],
 "metadata": {
  "language_info": {
   "name": "python"
  }
 },
 "nbformat": 4,
 "nbformat_minor": 2
}
