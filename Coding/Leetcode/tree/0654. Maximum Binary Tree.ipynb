{
 "cells": [
  {
   "cell_type": "markdown",
   "metadata": {},
   "source": [
    "- 一般情况来说：如果让空节点（空指针）进入递归，就不加if，如果不让空节点进入递归，就加if限制一下， 终止条件也会相应的调整。"
   ]
  },
  {
   "cell_type": "code",
   "execution_count": null,
   "metadata": {},
   "outputs": [],
   "source": [
    "'''\n",
    "654. Maximum Binary Tree\n",
    "'''\n",
    "# Definition for a binary tree node.\n",
    "# class TreeNode:\n",
    "#     def __init__(self, val=0, left=None, right=None):\n",
    "#         self.val = val\n",
    "#         self.left = left\n",
    "#         self.right = right\n",
    "class Solution:\n",
    "    def constructMaximumBinaryTree(self, nums: List[int]) -> Optional[TreeNode]:\n",
    "        if len(nums) == 1:\n",
    "            return TreeNode(nums[0])\n",
    "        # find the largest\n",
    "        idx = 0\n",
    "        max_ = 0\n",
    "        for i in range(len(nums)):\n",
    "            if nums[i] > max_:\n",
    "                max_ = nums[i]\n",
    "                idx = i\n",
    "        node = TreeNode(max_)\n",
    "        # left\n",
    "        if idx > 0:\n",
    "            node.left = self.constructMaximumBinaryTree(nums[:idx])\n",
    "        # right\n",
    "        if idx < len(nums) - 1:\n",
    "            node.right = self.constructMaximumBinaryTree(nums[idx+1:])\n",
    "        return node"
   ]
  }
 ],
 "metadata": {
  "language_info": {
   "name": "python"
  }
 },
 "nbformat": 4,
 "nbformat_minor": 2
}
