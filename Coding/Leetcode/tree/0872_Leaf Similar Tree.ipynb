{
 "cells": [
  {
   "cell_type": "markdown",
   "metadata": {},
   "source": [
    "#### 872. Leaf-Similar Trees\n",
    "Consider all the leaves of a binary tree, from left to right order, the values of those leaves form a leaf value sequence.\n",
    "For example, in the given tree above, the leaf value sequence is (6, 7, 4, 9, 8).\n",
    "\n",
    "Two binary trees are considered leaf-similar if their leaf value sequence is the same.\n",
    "\n",
    "Return true if and only if the two given trees with head nodes root1 and root2 are leaf-similar.\n",
    "\n"
   ]
  },
  {
   "cell_type": "code",
   "execution_count": null,
   "metadata": {},
   "outputs": [],
   "source": [
    "# Definition for a binary tree node.\n",
    "# class TreeNode:\n",
    "#     def __init__(self, val=0, left=None, right=None):\n",
    "#         self.val = val\n",
    "#         self.left = left\n",
    "#         self.right = right\n",
    "class Solution:\n",
    "    def leafSimilar(self, root1: Optional[TreeNode], root2: Optional[TreeNode]) -> bool:\n",
    "        def isLeaf(root):\n",
    "            if not root.left and not root.right: \n",
    "                return True\n",
    "            else: \n",
    "                return False\n",
    "        def leaves(root):\n",
    "            result = []\n",
    "            if isLeaf(root):\n",
    "                result.append(root.val)\n",
    "            else:\n",
    "                if root.left:\n",
    "                    result.extend(leaves(root.left))\n",
    "                if root.right:\n",
    "                    result.extend(leaves(root.right))\n",
    "            return result\n",
    "        return leaves(root1) == leaves(root2)"
   ]
  },
  {
   "cell_type": "code",
   "execution_count": null,
   "metadata": {},
   "outputs": [],
   "source": [
    "# Definition for a binary tree node.\n",
    "# class TreeNode:\n",
    "#     def __init__(self, val=0, left=None, right=None):\n",
    "#         self.val = val\n",
    "#         self.left = left\n",
    "#         self.right = right\n",
    "class Solution:\n",
    "    def leafSimilar(self, root1: Optional[TreeNode], root2: Optional[TreeNode]) -> bool:\n",
    "        def treeseq(root):\n",
    "            if root.left or root.right:\n",
    "                if root.left:\n",
    "                    yield from treeseq(root.left)\n",
    "                if root.right:\n",
    "                    yield from treeseq(root.right)\n",
    "            else:\n",
    "                yield root.val\n",
    "                \n",
    "        return all(v1==v2 for v1,v2 in itertools.zip_longest(treeseq(root1), treeseq(root2)))"
   ]
  }
 ],
 "metadata": {
  "language_info": {
   "name": "python"
  }
 },
 "nbformat": 4,
 "nbformat_minor": 2
}
