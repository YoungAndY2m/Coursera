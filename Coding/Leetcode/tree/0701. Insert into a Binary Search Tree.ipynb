{
 "cells": [
  {
   "cell_type": "code",
   "execution_count": null,
   "metadata": {},
   "outputs": [],
   "source": [
    "'''\n",
    "701. Insert into a Binary Search Tree\n",
    "'''\n",
    "# Definition for a binary tree node.\n",
    "# class TreeNode:\n",
    "#     def __init__(self, val=0, left=None, right=None):\n",
    "#         self.val = val\n",
    "#         self.left = left\n",
    "#         self.right = right\n",
    "class Solution:\n",
    "    def insertIntoBST(self, root: Optional[TreeNode], val: int) -> Optional[TreeNode]:\n",
    "        if not root:\n",
    "            return TreeNode(val)\n",
    "\n",
    "        node = TreeNode(val)\n",
    "        cur = root\n",
    "        parent = root  # 记录上一个节点，用于连接新节点\n",
    "        while cur is not None:\n",
    "            parent = cur\n",
    "            if cur.val > val:\n",
    "                cur = cur.left\n",
    "            else:\n",
    "                cur = cur.right\n",
    "\n",
    "        if val < parent.val:\n",
    "            parent.left = node  # 将新节点连接到父节点的左子树\n",
    "        else:\n",
    "            parent.right = node  # 将新节点连接到父节点的右子树\n",
    "\n",
    "        return root\n",
    "    \n",
    "    \n",
    "# Definition for a binary tree node.\n",
    "# class TreeNode:\n",
    "#     def __init__(self, val=0, left=None, right=None):\n",
    "#         self.val = val\n",
    "#         self.left = left\n",
    "#         self.right = right\n",
    "class Solution:\n",
    "    def insertIntoBST(self, root: Optional[TreeNode], val: int) -> Optional[TreeNode]:\n",
    "        if not root:\n",
    "            return TreeNode(val)\n",
    "\n",
    "        if val < root.val:\n",
    "            root.left = self.insertIntoBST(root.left, val)\n",
    "        else:\n",
    "            root.right = self.insertIntoBST(root.right, val)\n",
    "        \n",
    "        return root"
   ]
  }
 ],
 "metadata": {
  "language_info": {
   "name": "python"
  }
 },
 "nbformat": 4,
 "nbformat_minor": 2
}
