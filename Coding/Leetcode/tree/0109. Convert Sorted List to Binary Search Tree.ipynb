{
 "cells": [
  {
   "cell_type": "code",
   "execution_count": null,
   "metadata": {},
   "outputs": [],
   "source": [
    "'''\n",
    "109. Convert Sorted List to Binary Search Tree\n",
    "'''\n",
    "# Definition for singly-linked list.\n",
    "# class ListNode:\n",
    "#     def __init__(self, val=0, next=None):\n",
    "#         self.val = val\n",
    "#         self.next = next\n",
    "# Definition for a binary tree node.\n",
    "# class TreeNode:\n",
    "#     def __init__(self, val=0, left=None, right=None):\n",
    "#         self.val = val\n",
    "#         self.left = left\n",
    "#         self.right = right\n",
    "class Solution:\n",
    "    def sortedListToBST(self, head: Optional[ListNode]) -> Optional[TreeNode]:\n",
    "        if not head:\n",
    "            return None \n",
    "        elif not head.next:\n",
    "            return TreeNode(head.val)\n",
    "        pre = ListNode(0)\n",
    "        pre.next = head\n",
    "        slow, fast = head, head\n",
    "        while fast and fast.next:\n",
    "            pre = pre.next\n",
    "            slow = slow.next\n",
    "            fast = fast.next.next\n",
    "\n",
    "        root = TreeNode(slow.val)\n",
    "        pre.next = None\n",
    "        slow = slow.next\n",
    "        root.left = self.sortedListToBST(head)\n",
    "        root.right = self.sortedListToBST(slow)\n",
    "        return root"
   ]
  }
 ],
 "metadata": {
  "language_info": {
   "name": "python"
  }
 },
 "nbformat": 4,
 "nbformat_minor": 2
}
