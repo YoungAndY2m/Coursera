{
 "cells": [
  {
   "cell_type": "code",
   "execution_count": null,
   "metadata": {},
   "outputs": [],
   "source": [
    "'''\n",
    "！！！！！切片操作\n",
    "s[start:stop:step]\n",
    "start或stop缺少的情况下，step > 0: start = 负无穷，stop = 正无穷；step < 0: start = 正无穷，stop = 负无穷（倒推）\n",
    "'''\n",
    "class Solution:\n",
    "    def reverseString(self, s: List[str]) -> None:\n",
    "        \"\"\"\n",
    "        Do not return anything, modify s in-place instead.\n",
    "        \"\"\"\n",
    "        s[:] = s[::-1]\n",
    "       "
   ]
  }
 ],
 "metadata": {
  "language_info": {
   "name": "python"
  }
 },
 "nbformat": 4,
 "nbformat_minor": 2
}
