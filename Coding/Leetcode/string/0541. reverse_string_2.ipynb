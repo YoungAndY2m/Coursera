{
 "cells": [
  {
   "cell_type": "markdown",
   "metadata": {},
   "source": [
    "#### 541. Reverse String II\n",
    "Given a string s and an integer k, reverse the first k characters for every 2k characters counting from the start of the string.\n",
    "\n",
    "If there are fewer than k characters left, reverse all of them. If there are less than 2k but greater than or equal to k characters, then reverse the first k characters and leave the other as original."
   ]
  },
  {
   "cell_type": "code",
   "execution_count": null,
   "metadata": {},
   "outputs": [],
   "source": [
    "class Solution:\n",
    "    def reverseStr(self, s: str, k: int) -> str:\n",
    "        def reverse_substring(text):\n",
    "            left, right = 0, len(text) - 1\n",
    "            while left < right:\n",
    "                text[left], text[right] = text[right], text[left]\n",
    "                left += 1\n",
    "                right -= 1\n",
    "            return text\n",
    "        \n",
    "        res = list(s)\n",
    "\n",
    "        for cur in range(0, len(s), 2 * k):\n",
    "            res[cur: cur + k] = reverse_substring(res[cur: cur + k])\n",
    "        \n",
    "        return ''.join(res)"
   ]
  },
  {
   "cell_type": "code",
   "execution_count": null,
   "metadata": {},
   "outputs": [],
   "source": [
    "class Solution:\n",
    "    def reverseStr(self, s: str, k: int) -> str:\n",
    "        # Two pointers. Another is inside the loop.\n",
    "        p = 0\n",
    "        while p < len(s):\n",
    "            p2 = p + k\n",
    "            # Written in this could be more pythonic.\n",
    "            s = s[:p] + s[p: p2][::-1] + s[p2:]\n",
    "            p = p + 2 * k\n",
    "        return s"
   ]
  }
 ],
 "metadata": {
  "language_info": {
   "name": "python"
  }
 },
 "nbformat": 4,
 "nbformat_minor": 2
}
