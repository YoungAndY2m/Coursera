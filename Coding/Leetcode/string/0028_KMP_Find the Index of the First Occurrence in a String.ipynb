{
 "cells": [
  {
   "cell_type": "markdown",
   "metadata": {},
   "source": [
    "#### KMP - Find the Index of the First Occurrence in a String\n",
    "Given two strings needle and haystack, return the index of the first occurrence of needle in haystack, or -1 if needle is not part of haystack."
   ]
  },
  {
   "cell_type": "code",
   "execution_count": null,
   "metadata": {},
   "outputs": [],
   "source": [
    "class Solution:\n",
    "    def kmp(self, next, s):\n",
    "            j = 0\n",
    "            next[0] = 0\n",
    "            for i in range(1, len(s)):\n",
    "                while j > 0 and s[i] != s[j]:\n",
    "                    j = next[j-1]\n",
    "                if s[i] == s[j]:\n",
    "                    j += 1\n",
    "                next[i] = j\n",
    "    def strStr(self, haystack: str, needle: str) -> int:\n",
    "        if len(needle) == 0: \n",
    "            return 0\n",
    "        next = [0] * len(needle)\n",
    "        self.kmp(next, needle)\n",
    "        j = 0\n",
    "        for i in range(len(haystack)):\n",
    "            while j > 0 and haystack[i] != needle[j]:\n",
    "                j = next[j-1]\n",
    "            if haystack[i] == needle[j]:\n",
    "                j += 1\n",
    "            if j == len(needle):\n",
    "                return i - len(needle) + 1\n",
    "        return -1"
   ]
  }
 ],
 "metadata": {
  "language_info": {
   "name": "python"
  }
 },
 "nbformat": 4,
 "nbformat_minor": 2
}
