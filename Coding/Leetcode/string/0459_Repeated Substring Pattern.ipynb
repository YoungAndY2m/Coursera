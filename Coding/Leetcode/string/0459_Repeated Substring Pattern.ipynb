{
 "cells": [
  {
   "cell_type": "markdown",
   "metadata": {},
   "source": [
    "#### 459. Repeated Substring Pattern\n",
    "Given a string s, check if it can be constructed by taking a substring of it and appending multiple copies of the substring together."
   ]
  },
  {
   "cell_type": "code",
   "execution_count": null,
   "metadata": {},
   "outputs": [],
   "source": [
    "class Solution:\n",
    "    def kmp(self, next, s):\n",
    "        j = 0\n",
    "        next[0] = 0\n",
    "        for i in range(1, len(s)):\n",
    "            while j > 0 and s[j] != s[i]:\n",
    "                j = next[j-1]\n",
    "            if s[j] == s[i]:\n",
    "                j += 1\n",
    "            next[i] = j\n",
    "\n",
    "    def repeatedSubstringPattern(self, s: str) -> bool:\n",
    "        # find kmp - next table\n",
    "        next = [0] * len(s)\n",
    "        self.kmp(next, s)\n",
    "        return next[-1] != 0 and len(s) % (len(s) - next[-1]) == 0"
   ]
  },
  {
   "cell_type": "code",
   "execution_count": null,
   "metadata": {},
   "outputs": [],
   "source": [
    "\"\"\"\n",
    "KMP\n",
    "\"\"\"\n",
    "class Solution:\n",
    "    def repeatedSubstringPattern(self, s: str) -> bool:  \n",
    "        if len(s) == 0:\n",
    "            return False\n",
    "        nxt = [0] * len(s)\n",
    "        self.getNext(nxt, s)\n",
    "        if nxt[-1] != 0 and len(s) % (len(s) - nxt[-1]) == 0:\n",
    "            return True\n",
    "        return False\n",
    "    \n",
    "    def getNext(self, nxt, s):\n",
    "        nxt[0] = 0\n",
    "        j = 0\n",
    "        for i in range(1, len(s)):\n",
    "            while j > 0 and s[i] != s[j]:\n",
    "                j = nxt[j - 1]\n",
    "            if s[i] == s[j]:\n",
    "                j += 1\n",
    "            nxt[i] = j\n",
    "        return nxt"
   ]
  },
  {
   "cell_type": "code",
   "execution_count": null,
   "metadata": {},
   "outputs": [],
   "source": [
    "'''\n",
    "重复的特性 - 首尾相连\n",
    "'''\n",
    "class Solution:\n",
    "    def repeatedSubstringPattern(self, s: str) -> bool:\n",
    "        ss = s + s\n",
    "        return ss[1:-1].find(s) != -1"
   ]
  }
 ],
 "metadata": {
  "language_info": {
   "name": "python"
  }
 },
 "nbformat": 4,
 "nbformat_minor": 2
}
