{
 "cells": [
  {
   "cell_type": "markdown",
   "metadata": {},
   "source": [
    "- 滑动窗口考虑存储的是index还是element"
   ]
  },
  {
   "cell_type": "code",
   "execution_count": null,
   "metadata": {},
   "outputs": [],
   "source": [
    "'''\n",
    "159. Longest Substring with At Most Two Distinct Characters\n",
    "'''\n",
    "from collections import defaultdict\n",
    "\n",
    "class Solution:\n",
    "    def lengthOfLongestSubstringTwoDistinct(self, s: str) -> int:\n",
    "        l = r = maxl = 0\n",
    "        sdict = defaultdict(int)\n",
    "        while r < len(s):\n",
    "            sdict[s[r]] = r\n",
    "            if len(sdict) == 3:\n",
    "                smallest = min(list(sdict.values()))\n",
    "                del sdict[s[smallest]]\n",
    "                l = smallest + 1\n",
    "            maxl = max(maxl, r - l + 1)\n",
    "            r += 1\n",
    "        return maxl"
   ]
  }
 ],
 "metadata": {
  "language_info": {
   "name": "python"
  }
 },
 "nbformat": 4,
 "nbformat_minor": 2
}
