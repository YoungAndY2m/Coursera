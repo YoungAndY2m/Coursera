{
 "cells": [
  {
   "cell_type": "markdown",
   "metadata": {},
   "source": [
    "#### Python coding tips"
   ]
  },
  {
   "cell_type": "code",
   "execution_count": null,
   "metadata": {},
   "outputs": [],
   "source": [
    "'''\n",
    "alphabet list\n",
    "'''\n",
    "alphabet = [chr(ord('a') + i) for i in range(26)]\n",
    "print(alphabet)"
   ]
  },
  {
   "cell_type": "code",
   "execution_count": null,
   "metadata": {},
   "outputs": [],
   "source": [
    "'''\n",
    "python.any() function evaluating if any is True\n",
    "python.all() function evaluating if all is True\n",
    "'''\n",
    "print(any(len(s) > 4 for s in ['asdf', 'sadfasdfsd'])) # any - True\n",
    "print(all(len(s) > 4 for s in ['asdf', 'sadfasdfsd'])) # all - False"
   ]
  },
  {
   "cell_type": "markdown",
   "metadata": {},
   "source": [
    "##### Array\n",
    "- "
   ]
  },
  {
   "cell_type": "markdown",
   "metadata": {},
   "source": [
    "##### Linked List\n",
    "- "
   ]
  },
  {
   "cell_type": "markdown",
   "metadata": {},
   "source": [
    "##### Hash Table\n",
    "- Goal: checking if the element exists\n",
    "- Data structure\n",
    "  1. array: for smaller hash\n",
    "  2. set: for larger hash\n",
    "  3. map: for key, value pair\n",
    "- Tips:\n",
    "  1. Use defaultdict - 解决KeyError\n",
    "     - s_dict = defaultdict(int)\n",
    "  2. Use Counter - 非常管用！！！可以像set一样用&, |, - 来计算\n",
    "     - Counter(ransomNote) & Counter(magazine) == Counter(ransomNote) # 交集\n",
    "- Thoughts:\n",
    "  1. 做hash table的时候要找到固定的key - string, list都可以\n",
    "     - sorted(string)\n",
    "  2. hash table两个variable互相判断，一个for loop += 1，一个for loop -= 1，看最后是否count values是否都是0就是anagram了\n",
    "  3. Sliding window要注意range(-1, len(list))\n",
    "     - for i in range(len(p) - 1, len_s - len_p + 1):\n",
    "  4. Set使用&, |, -来代替.intersection等等\n",
    "  5. Loops endlessly in a cycle - 判断是否之前seen了（set）- Boolean"
   ]
  },
  {
   "cell_type": "code",
   "execution_count": null,
   "metadata": {},
   "outputs": [],
   "source": [
    "''' \n",
    "Sliding Window - range(-1, len(list))\n",
    "\n",
    "Take care of the situation when i = -1, don't add/subtract element (start of the iteration)\n",
    "otherwise, modify the hash table\n",
    "'''\n",
    "class Solution:\n",
    "    def findAnagrams(self, s: str, p: str) -> List[int]:\n",
    "        char_freqs, indices, len_p, len_s = defaultdict(int), [], len(p), len(s)\n",
    "        \n",
    "        # s cannot have p anangrams if len(p) > len(s)\n",
    "        if len_p > len_s:\n",
    "            return indices\n",
    "\n",
    "        # build map of character frequencies in p\n",
    "        for char in p:\n",
    "            char_freqs[char] += 1\n",
    "\n",
    "        # initial full pass over the window, except last element which we will pass over later\n",
    "        for i in range(len_p - 1):\n",
    "            if s[i] in char_freqs:\n",
    "                char_freqs[s[i]] -= 1\n",
    "            \n",
    "        # slide the window with stride 1, adding the value \"sliding out\" and subtracting the value \"sliding in\"\n",
    "        for i in range(len(p) - 1, len_s - len_p + 1):\n",
    "            if i > -1 and s[i] in char_freqs:\n",
    "                char_freqs[s[i]] += 1\n",
    "            if i + len_p < len_s and s[i + len_p] in char_freqs: \n",
    "                char_freqs[s[i + len_p]] -= 1\n",
    "                \n",
    "            # check whether we encountered an anagram by seeing if all frequencies add up to 0\n",
    "            if not any(char_freqs.values()): \n",
    "                indices.append(i + 1)\n",
    "                \n",
    "        return indices"
   ]
  },
  {
   "cell_type": "code",
   "execution_count": null,
   "metadata": {},
   "outputs": [],
   "source": [
    "'''\n",
    "DefaultDict\n",
    "Defaultdict is a container like dictionaries present in the module collections. \n",
    "Defaultdict is a sub-class of the dictionary class that returns a dictionary-like object. \n",
    "The functionality of both dictionaries and defaultdict are almost same except for the fact that defaultdict never raises a KeyError. \n",
    "\n",
    "It provides a default value for the key that does not exists.\n",
    "'''\n",
    "class Solution:\n",
    "    def isAnagram(self, s: str, t: str) -> bool:\n",
    "        from collections import defaultdict\n",
    "        \n",
    "        s_dict = defaultdict(int)\n",
    "        t_dict = defaultdict(int)\n",
    "        for x in s:\n",
    "            s_dict[x] += 1\n",
    "        \n",
    "        for x in t:\n",
    "            t_dict[x] += 1\n",
    "        return s_dict == t_dict"
   ]
  },
  {
   "cell_type": "code",
   "execution_count": null,
   "metadata": {},
   "outputs": [],
   "source": [
    "'''\n",
    "Counter\n",
    "\n",
    "A Counter is a dict subclass for counting hashable objects. \n",
    "It is a collection where elements are stored as dictionary keys and their counts are stored as dictionary values. \n",
    "Counts are allowed to be any integer value including zero or negative counts. \n",
    "The Counter class is similar to bags or multisets in other languages.\n",
    "'''\n",
    "'''\n",
    "c = Counter()                           # a new, empty counter\n",
    "c = Counter('gallahad')                 # a new counter from an iterable !!!!!!!!!!!!!!!!\n",
    "c = Counter({'red': 4, 'blue': 2})      # a new counter from a mapping\n",
    "c = Counter(cats=4, dogs=8)             # a new counter from keyword args\n",
    "c.total()                       # total of all counts\n",
    "c.clear()                       # reset all counts\n",
    "list(c)                         # list unique elements\n",
    "set(c)                          # convert to a set\n",
    "dict(c)                         # convert to a regular dictionary\n",
    "c.items()                       # convert to a list of (elem, cnt) pairs\n",
    "Counter(dict(list_of_pairs))    # convert from a list of (elem, cnt) pairs\n",
    "c.most_common()[:-n-1:-1]       # n least common elements\n",
    "+c                              # remove zero and negative counts\n",
    "'''\n",
    "class Solution:\n",
    "    def canConstruct(self, ransomNote: str, magazine: str) -> bool:\n",
    "        from collections import Counter\n",
    "        r_dict = Counter(ransomNote)\n",
    "        m_dict = Counter(magazine)\n",
    "        return r_dict & m_dict == r_dict"
   ]
  }
 ],
 "metadata": {
  "kernelspec": {
   "display_name": "Python 3",
   "language": "python",
   "name": "python3"
  },
  "language_info": {
   "codemirror_mode": {
    "name": "ipython",
    "version": 3
   },
   "file_extension": ".py",
   "mimetype": "text/x-python",
   "name": "python",
   "nbconvert_exporter": "python",
   "pygments_lexer": "ipython3",
   "version": "3.11.4"
  }
 },
 "nbformat": 4,
 "nbformat_minor": 2
}
