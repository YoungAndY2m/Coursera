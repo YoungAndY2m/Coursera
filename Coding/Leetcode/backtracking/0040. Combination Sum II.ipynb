{
 "cells": [
  {
   "cell_type": "code",
   "execution_count": null,
   "metadata": {},
   "outputs": [],
   "source": [
    "'''\n",
    "40. Combination Sum II\n",
    "'''\n",
    "class Solution:\n",
    "    def combinationSum2(self, candidates: List[int], target: int) -> List[List[int]]:\n",
    "        candidates.sort()\n",
    "        results = []\n",
    "        self.combinationSumHelper(candidates, target, 0, [], results)\n",
    "        return results\n",
    "\n",
    "    def combinationSumHelper(self, candidates, target, index, path, results):\n",
    "        if target == 0:\n",
    "            results.append(path[:])\n",
    "            return\n",
    "        for i in range(index, len(candidates)):\n",
    "            if i > index and candidates[i] == candidates[i - 1]:\n",
    "                continue  \n",
    "            if candidates[i] > target:\n",
    "                break  \n",
    "            path.append(candidates[i])\n",
    "            self.combinationSumHelper(candidates, target - candidates[i], i + 1, path, results)\n",
    "            path.pop()"
   ]
  }
 ],
 "metadata": {
  "language_info": {
   "name": "python"
  }
 },
 "nbformat": 4,
 "nbformat_minor": 2
}
