{
 "cells": [
  {
   "cell_type": "code",
   "execution_count": null,
   "metadata": {},
   "outputs": [],
   "source": [
    "'''\n",
    "131. Palindrome Partitioning\n",
    "'''\n",
    "class Solution:\n",
    "    def partition(self, s: str) -> List[List[str]]:\n",
    "        self.result = []\n",
    "        self.helper(s, [], 0)\n",
    "        return self.result\n",
    "    \n",
    "\n",
    "    def isPalindrome(self, s):\n",
    "        l, r = 0, len(s) - 1\n",
    "        while l < r:\n",
    "            if s[l] != s[r]:\n",
    "                return False\n",
    "            l += 1\n",
    "            r -= 1\n",
    "        return True\n",
    "    \n",
    "    def helper(self, s, path, startIndex):\n",
    "        if startIndex == len(s):\n",
    "            self.result.append(path[:])\n",
    "            return\n",
    "        for i in range(startIndex, len(s)):\n",
    "            if self.isPalindrome(s[startIndex:i+1]):\n",
    "                path.append(s[startIndex:i+1])\n",
    "            else: \n",
    "                continue\n",
    "            self.helper(s, path, i + 1)\n",
    "            path.pop()\n",
    "        return"
   ]
  }
 ],
 "metadata": {
  "language_info": {
   "name": "python"
  }
 },
 "nbformat": 4,
 "nbformat_minor": 2
}
