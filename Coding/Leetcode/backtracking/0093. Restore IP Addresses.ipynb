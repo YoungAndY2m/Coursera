{
 "cells": [
  {
   "cell_type": "code",
   "execution_count": null,
   "metadata": {},
   "outputs": [],
   "source": [
    "'''\n",
    "93. Restore IP Addresses\n",
    "'''\n",
    "class Solution:\n",
    "    def restoreIpAddresses(self, s: str) -> List[str]:\n",
    "        self.result = []\n",
    "        self.helper(s, [], 0, 0)\n",
    "        return self.result\n",
    "    \n",
    "    def isValid(self, s):\n",
    "        return True if 0 <= int(s) <= 255 and len(str(int(s))) == len(s) else False\n",
    "    \n",
    "    def helper(self, s, path, startIndex, k):\n",
    "        if k > 4:\n",
    "            return\n",
    "        if k == 4 and startIndex == len(s):\n",
    "            ip = \".\".join(path)\n",
    "            self.result.append(ip)\n",
    "            return\n",
    "        for i in range(startIndex, len(s)):\n",
    "            if self.isValid(s[startIndex:i+1]):\n",
    "                path.append(s[startIndex:i+1])\n",
    "                k += 1\n",
    "            else:\n",
    "                continue\n",
    "            self.helper(s, path, i + 1, k)\n",
    "            path.pop()\n",
    "            k -= 1\n",
    "        return"
   ]
  }
 ],
 "metadata": {
  "language_info": {
   "name": "python"
  }
 },
 "nbformat": 4,
 "nbformat_minor": 2
}
