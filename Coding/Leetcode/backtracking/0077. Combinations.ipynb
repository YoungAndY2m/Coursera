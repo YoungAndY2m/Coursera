{
 "cells": [
  {
   "cell_type": "code",
   "execution_count": null,
   "metadata": {},
   "outputs": [],
   "source": [
    "'''\n",
    "77. Combinations\n",
    "'''\n",
    "class Solution:\n",
    "    def combine(self, n: int, k: int) -> List[List[int]]:\n",
    "        result = []\n",
    "\n",
    "        def backtracking(n, k, path, startIndex):\n",
    "            nonlocal result\n",
    "            if len(path) == k:\n",
    "                result.append(path[:])\n",
    "                return\n",
    "            for i in range(startIndex, n - (k - len(path)) + 2):\n",
    "                path.append(i)\n",
    "                backtracking(n, k, path, i+1)\n",
    "                path.pop()\n",
    "            return\n",
    "        \n",
    "        backtracking(n, k, [], 1)\n",
    "        return result"
   ]
  }
 ],
 "metadata": {
  "language_info": {
   "name": "python"
  }
 },
 "nbformat": 4,
 "nbformat_minor": 2
}
