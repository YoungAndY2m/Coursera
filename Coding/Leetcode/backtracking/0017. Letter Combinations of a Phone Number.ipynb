{
 "cells": [
  {
   "cell_type": "code",
   "execution_count": null,
   "metadata": {},
   "outputs": [],
   "source": [
    "'''\n",
    "17. Letter Combinations of a Phone Number\n",
    "'''\n",
    "class Solution:\n",
    "    def letterCombinations(self, digits: str) -> List[str]:\n",
    "        self.result = []\n",
    "        if len(digits) == 0: return []\n",
    "        self.letters = [\n",
    "            '', 'abc', 'def', 'ghi', 'jkl', 'mno', 'pqrs', 'tuv', 'wxyz'\n",
    "        ]\n",
    "        self.backtracking(digits, 0, \"\")\n",
    "        return self.result\n",
    "        \n",
    "\n",
    "    def backtracking(self, digits, index, path):\n",
    "        if index == len(digits):\n",
    "            self.result.append(path)\n",
    "            return\n",
    "        \n",
    "        digit = int(digits[index])\n",
    "        chars = self.letters[digit-1]\n",
    "        for i in range(len(chars)):\n",
    "            self.backtracking(digits, index+1, path + chars[i])\n",
    "\n",
    "        return"
   ]
  }
 ],
 "metadata": {
  "language_info": {
   "name": "python"
  }
 },
 "nbformat": 4,
 "nbformat_minor": 2
}
