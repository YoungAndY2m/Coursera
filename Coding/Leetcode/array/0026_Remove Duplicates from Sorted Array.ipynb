{
 "cells": [
  {
   "cell_type": "markdown",
   "metadata": {},
   "source": [
    "#### Remove Duplicates from Sorted Array\n",
    "Given an integer array nums sorted in non-decreasing order, remove the duplicates in-place such that each unique element appears only once. The relative order of the elements should be kept the same. Then return the number of unique elements in nums.\n",
    "\n",
    "Consider the number of unique elements of nums to be k, to get accepted, you need to do the following things:\n",
    "\n",
    "Change the array nums such that the first k elements of nums contain the unique elements in the order they were present in nums initially. The remaining elements of nums are not important as well as the size of nums.\n",
    "Return k."
   ]
  },
  {
   "cell_type": "markdown",
   "metadata": {},
   "source": [
    "- 要注意slow/fast的意思及范围\n",
    "  - 确认最后slow return的时候对应的value是不是所需要的，是否要+1"
   ]
  },
  {
   "cell_type": "code",
   "execution_count": null,
   "metadata": {},
   "outputs": [],
   "source": [
    "'''\n",
    "Two-pointer - O(n)\n",
    "'''\n",
    "class Solution:\n",
    "    def removeDuplicates(self, nums: List[int]) -> int:\n",
    "        if len(nums) < 2: return len(nums)\n",
    "        fast, slow = 1, 0\n",
    "        while fast < len(nums):\n",
    "            if nums[fast] != nums[slow]:\n",
    "                nums[slow+1] = nums[fast]\n",
    "                slow += 1\n",
    "            fast += 1\n",
    "        return slow + 1"
   ]
  },
  {
   "cell_type": "code",
   "execution_count": null,
   "metadata": {},
   "outputs": [],
   "source": [
    "class Solution:\n",
    "    def removeDuplicates(self, nums: List[int]) -> int:\n",
    "        size = len(nums)\n",
    "        if size  < 2: return size\n",
    "\n",
    "        i = 1 # length\n",
    "        for j in range(1, size):\n",
    "            if nums[j-1] == nums[j]: continue\n",
    "            else:\n",
    "                nums[i] = nums[j]\n",
    "                i += 1\n",
    "        return i\n",
    "\n",
    "class Solution:\n",
    "    def removeDuplicates(self, nums: List[int]) -> int:\n",
    "        i = 1\n",
    "        for j in range(1, len(nums)):\n",
    "            if nums[j - 1] != nums[j]:\n",
    "                nums[i] = nums[j]\n",
    "                i += 1\n",
    "            else:\n",
    "                continue\n",
    "        return i"
   ]
  }
 ],
 "metadata": {
  "language_info": {
   "name": "python"
  }
 },
 "nbformat": 4,
 "nbformat_minor": 2
}
