{
 "cells": [
  {
   "cell_type": "markdown",
   "metadata": {},
   "source": [
    "#### 59. Spiral Matrix II\n",
    "Given a positive integer n, generate an n x n matrix filled with elements from 1 to n2 in spiral order.\n",
    "\n",
    "- Example 1:\n",
    "  - Input: n = 3\n",
    "  - Output: [[1,2,3],[8,9,4],[7,6,5]]"
   ]
  },
  {
   "cell_type": "code",
   "execution_count": null,
   "metadata": {},
   "outputs": [],
   "source": [
    "'''\n",
    "Very important - try to figure out the logic\n",
    "'''\n",
    "class Solution:\n",
    "    def generateMatrix(self, n: int) -> List[List[int]]:\n",
    "        nums = [[0] * n for _ in range(n)]\n",
    "        start_x, start_y = 0, 0\n",
    "        loop, mid = n // 2, n // 2\n",
    "        count = 1\n",
    "\n",
    "        for offset in range(1, loop+1):\n",
    "            # top row\n",
    "            for j in range(start_y, n - offset):\n",
    "                nums[start_x][j] = count\n",
    "                count += 1\n",
    "            # right column\n",
    "            for i in range(start_x, n - offset):\n",
    "                nums[i][n-offset] = count\n",
    "                count += 1\n",
    "            # bottom row\n",
    "            for j in range(n-offset, start_y, -1):\n",
    "                nums[n-offset][j] = count\n",
    "                count += 1\n",
    "            # left column\n",
    "            for i in range(n-offset, start_x, -1):\n",
    "                nums[i][start_y] = count\n",
    "                count += 1\n",
    "            # change value\n",
    "            start_x += 1\n",
    "            start_y += 1\n",
    "\n",
    "        if n % 2 == 1:\n",
    "            nums[mid][mid] = count\n",
    "\n",
    "        return nums"
   ]
  }
 ],
 "metadata": {
  "kernelspec": {
   "display_name": "Python 3",
   "language": "python",
   "name": "python3"
  },
  "language_info": {
   "codemirror_mode": {
    "name": "ipython",
    "version": 3
   },
   "file_extension": ".py",
   "mimetype": "text/x-python",
   "name": "python",
   "nbconvert_exporter": "python",
   "pygments_lexer": "ipython3",
   "version": "3.11.4"
  }
 },
 "nbformat": 4,
 "nbformat_minor": 2
}
