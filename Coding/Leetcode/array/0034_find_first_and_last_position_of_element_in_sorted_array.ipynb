{
 "cells": [
  {
   "cell_type": "markdown",
   "metadata": {},
   "source": [
    "#### 34. Find first and last position of element in sorted array\n",
    "Given an array of integers nums sorted in non-decreasing order, find the starting and ending position of a given target value.\n",
    "\n",
    "If target is not found in the array, return [-1, -1].\n",
    "\n",
    "You must write an algorithm with O(log n) runtime complexity.\n",
    "\n",
    "- Example 1:\n",
    "  - Input: nums = [5,7,7,8,8,10], target = 8\n",
    "  - Output: [3,4]\n",
    "- Example 2:\n",
    "  - Input: nums = [5,7,7,8,8,10], target = 6\n",
    "  - Output: [-1,-1]\n",
    "- Example 3:\n",
    "  - Input: nums = [], target = 0\n",
    "  - Output: [-1,-1]\n"
   ]
  },
  {
   "cell_type": "markdown",
   "metadata": {},
   "source": [
    "- enumerate的时候善用continue速度会快很多"
   ]
  },
  {
   "cell_type": "code",
   "execution_count": null,
   "metadata": {},
   "outputs": [],
   "source": [
    "'''\n",
    "Binary Search - 二分法 - 左闭右开\n",
    "Two binary search to find the first and the last\n",
    "'''\n",
    "class Solution:\n",
    "    def searchRange(self, nums: List[int], target: int) -> List[int]:\n",
    "        \n",
    "        def findFirst(nums, target):\n",
    "            l, r = 0, len(nums) - 1\n",
    "            first = -1\n",
    "            while l <= r:\n",
    "                mid = l + (r-l) // 2\n",
    "                if nums[mid] == target:\n",
    "                    first = mid\n",
    "                    r = mid - 1\n",
    "                elif nums[mid] > target: r = mid - 1\n",
    "                else: l = mid + 1\n",
    "            return first\n",
    "        \n",
    "        def findLast(nums, target):\n",
    "            l, r = 0, len(nums) - 1\n",
    "            last = -1\n",
    "            while l <= r:\n",
    "                mid = l + (r-l) // 2\n",
    "                if nums[mid] == target:\n",
    "                    last = mid\n",
    "                    l = mid + 1\n",
    "                elif nums[mid] < target: l = mid + 1\n",
    "                else: r = mid - 1\n",
    "            return last\n",
    "        \n",
    "        return [findFirst(nums, target), findLast(nums, target)]"
   ]
  },
  {
   "cell_type": "code",
   "execution_count": null,
   "metadata": {},
   "outputs": [],
   "source": [
    "'''\n",
    "Brute force - 用index enumerate遍历法 - O(n)\n",
    "'''\n",
    "\n",
    "class Solution:\n",
    "    def searchRange(self, nums: List[int], target: int) -> List[int]:\n",
    "        result = []\n",
    "        for idx, num in enumerate(nums):\n",
    "            if target != num: continue\n",
    "            result.append(idx)\n",
    "        if len(result) == 0: return [-1, -1]\n",
    "        return [result[0], result[-1]]\n",
    "        "
   ]
  },
  {
   "cell_type": "code",
   "execution_count": null,
   "metadata": {},
   "outputs": [],
   "source": [
    "'''\n",
    "Two pointers - O(n)\n",
    "'''\n",
    "class Solution:\n",
    "    def searchRange(self, nums: List[int], target: int) -> List[int]:\n",
    "        l, r = 0, len(nums) - 1\n",
    "        first, last = -1, -1\n",
    "        while l <= r:\n",
    "            mid = l + (r-l) // 2\n",
    "            if nums[mid] == target:\n",
    "                first, last = mid, mid\n",
    "                while first > l and nums[first-1] == target: first -= 1\n",
    "                while last < r and nums[last+1] == target: last += 1\n",
    "                return [first, last]\n",
    "            elif nums[mid] > target:\n",
    "                r = mid - 1\n",
    "            else: l = mid + 1\n",
    "        return [first, last]"
   ]
  }
 ],
 "metadata": {
  "language_info": {
   "name": "python"
  }
 },
 "nbformat": 4,
 "nbformat_minor": 2
}
