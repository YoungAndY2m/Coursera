{
 "cells": [
  {
   "cell_type": "markdown",
   "metadata": {},
   "source": [
    "#### 283. Move Zeros\n",
    "Given an integer array nums, move all 0's to the end of it while maintaining the relative order of the non-zero elements.\n",
    "\n",
    "Note that you must do this in-place without making a copy of the array.\n",
    "\n",
    "- Example 1:\n",
    "  - Input: nums = [0,1,0,3,12]\n",
    "  - Output: [1,3,12,0,0]\n",
    "- Example 2:\n",
    "  - Input: nums = [0]\n",
    "  - Output: [0]"
   ]
  },
  {
   "cell_type": "markdown",
   "metadata": {},
   "source": [
    "- 感觉用two pointers有点奇怪，查看下其他方法\n",
    "- 快慢双指针要学会用！！！！！"
   ]
  },
  {
   "cell_type": "code",
   "execution_count": null,
   "metadata": {},
   "outputs": [],
   "source": [
    "'''\n",
    "Two pointers - fast, slow\n",
    "Pay attention to the condition of moving fast and slow\n",
    "'''\n",
    "class Solution:\n",
    "    def moveZeroes(self, nums: List[int]) -> None:\n",
    "        \"\"\"\n",
    "        Do not return anything, modify nums in-place instead.\n",
    "        \"\"\"\n",
    "        slow = 0\n",
    "        for fast in range(len(nums)):\n",
    "            if nums[fast] != 0 and nums[slow] == 0:\n",
    "                nums[slow], nums[fast] = nums[fast], nums[slow]\n",
    "\n",
    "            # wait while we find a non-zero element to\n",
    "            # swap with you\n",
    "            if nums[slow] != 0:\n",
    "                slow += 1"
   ]
  },
  {
   "cell_type": "code",
   "execution_count": null,
   "metadata": {},
   "outputs": [],
   "source": [
    "'''\n",
    "Use delete elements: rest are zeros - O(n)\n",
    "'''\n",
    "class Solution:\n",
    "    def moveZeroes(self, nums: List[int]) -> None:\n",
    "        \"\"\"\n",
    "        Do not return anything, modify nums in-place instead.\n",
    "        \"\"\"\n",
    "        size = len(nums)\n",
    "        if size < 2:\n",
    "            pass\n",
    "        else:\n",
    "            idx = 0\n",
    "            for i in range(size):\n",
    "                if nums[i] == 0: continue\n",
    "                else:\n",
    "                    nums[idx] = nums[i]\n",
    "                    idx += 1\n",
    "            for j in range(idx, size):\n",
    "                nums[j] = 0"
   ]
  }
 ],
 "metadata": {
  "kernelspec": {
   "display_name": "Python 3",
   "language": "python",
   "name": "python3"
  },
  "language_info": {
   "name": "python",
   "version": "3.11.4"
  }
 },
 "nbformat": 4,
 "nbformat_minor": 2
}
