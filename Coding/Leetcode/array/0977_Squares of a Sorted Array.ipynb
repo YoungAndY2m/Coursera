{
 "cells": [
  {
   "cell_type": "markdown",
   "metadata": {},
   "source": [
    "#### 977. Squares of a sorted array\n",
    "Given an integer array nums sorted in non-decreasing order, return an array of the squares of each number sorted in non-decreasing order.\n",
    "\n",
    "- Example 1:\n",
    "  - Input: nums = [-4,-1,0,3,10]\n",
    "  - Output: [0,1,9,16,100]\n",
    "  - Explanation: After squaring, the array becomes [16,1,0,9,100].\n",
    "  - After sorting, it becomes [0,1,9,16,100].\n",
    "- Example 2:\n",
    "  - Input: nums = [-7,-3,2,3,11]\n",
    "  - Output: [4,9,9,49,121]"
   ]
  },
  {
   "cell_type": "code",
   "execution_count": null,
   "metadata": {},
   "outputs": [],
   "source": [
    "'''\n",
    "Two pointers - O(n)\n",
    "'''\n",
    "class Solution:\n",
    "    def sortedSquares(self, nums: List[int]) -> List[int]:\n",
    "        size = len(nums)\n",
    "\n",
    "        i, j = 0, size - 1\n",
    "        result = [0] * size\n",
    "        idx = size - 1\n",
    "\n",
    "        while i <= j:\n",
    "            front = nums[i] ** 2\n",
    "            back = nums[j] ** 2\n",
    "            if nums[i] < 0:\n",
    "                if front >= back: \n",
    "                    result[idx] = front\n",
    "                    i += 1\n",
    "                else: \n",
    "                    result[idx] = back\n",
    "                    j -= 1\n",
    "            else:\n",
    "                result[idx] = back\n",
    "                j -= 1\n",
    "            idx -= 1\n",
    "        return result"
   ]
  }
 ],
 "metadata": {
  "kernelspec": {
   "display_name": "Python 3",
   "language": "python",
   "name": "python3"
  },
  "language_info": {
   "name": "python",
   "version": "3.11.4"
  }
 },
 "nbformat": 4,
 "nbformat_minor": 2
}
