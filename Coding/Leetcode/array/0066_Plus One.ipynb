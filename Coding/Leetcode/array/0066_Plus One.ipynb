{
 "cells": [
  {
   "cell_type": "markdown",
   "metadata": {},
   "source": [
    "#### 66. Plus One\n",
    "You are given a large integer represented as an integer array digits, where each digits[i] is the ith digit of the integer. The digits are ordered from most significant to least significant in left-to-right order. The large integer does not contain any leading 0's.\n",
    "\n",
    "Increment the large integer by one and return the resulting array of digits.\n",
    "\n",
    "- Example 1:\n",
    "  - Input: digits = [4,3,2,1]\n",
    "  - Output: [4,3,2,2]\n",
    "- Example 2:\n",
    "  - Input: digits = [9]\n",
    "  - Output: [1,0]"
   ]
  },
  {
   "cell_type": "code",
   "execution_count": null,
   "metadata": {},
   "outputs": [],
   "source": [
    "'''\n",
    "List -> Str -> Int + 1 -> Str -> List\n",
    "'''\n",
    "class Solution:\n",
    "    def plusOne(self, digits: List[int]) -> List[int]:\n",
    "        num = ''.join([str(digit) for digit in digits])\n",
    "        result = str(int(num) + 1)\n",
    "        return [int(digit) for digit in result]"
   ]
  },
  {
   "cell_type": "code",
   "execution_count": null,
   "metadata": {},
   "outputs": [],
   "source": [
    "'''\n",
    "Reverse iteration - simulate addition process\n",
    "'''\n",
    "class Solution:\n",
    "    def plusOne(self, digits: List[int]) -> List[int]:\n",
    "\n",
    "        for i in range(len(digits)-1, -1, -1):\n",
    "            if digits[i] == 9:\n",
    "                digits[i] = 0\n",
    "            else:\n",
    "                digits[i] = digits[i] + 1\n",
    "                return digits\n",
    "        return [1] + digits \n",
    "\n",
    "        "
   ]
  }
 ],
 "metadata": {
  "language_info": {
   "name": "python"
  }
 },
 "nbformat": 4,
 "nbformat_minor": 2
}
