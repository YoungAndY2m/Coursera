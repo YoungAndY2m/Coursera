{
 "cells": [
  {
   "cell_type": "markdown",
   "metadata": {},
   "source": [
    "#### 167. Two Sum II - Input Array Is Sorted\n",
    "Given a 1-indexed array of integers numbers that is already sorted in non-decreasing order, find two numbers such that they add up to a specific target number. Let these two numbers be numbers[index1] and numbers[index2] where 1 <= index1 < index2 <= numbers.length.\n",
    "\n",
    "Return the indices of the two numbers, index1 and index2, added by one as an integer array [index1, index2] of length 2.\n",
    "\n",
    "The tests are generated such that there is exactly one solution. You may not use the same element twice.\n",
    "\n",
    "Your solution must use only constant extra space.\n",
    "\n",
    "- Example 1:\n",
    "  - Input: numbers = [2,7,11,15], target = 9\n",
    "  - Output: [1,2]\n",
    "  - Explanation: The sum of 2 and 7 is 9. Therefore, index1 = 1, index2 = 2. We return [1, 2].\n",
    "- Example 2:\n",
    "  - Input: numbers = [2,3,4], target = 6\n",
    "  - Output: [1,3]\n",
    "  - Explanation: The sum of 2 and 4 is 6. Therefore index1 = 1, index2 = 3. We return [1, 3]."
   ]
  },
  {
   "cell_type": "markdown",
   "metadata": {},
   "source": [
    "- 注意while loop一定要及时更新对应的variable！！！！！\n",
    "- 看清楚题目，index是否有特殊的含义（例如第几个而不是idx从0开始，可能要+1）"
   ]
  },
  {
   "cell_type": "code",
   "execution_count": null,
   "metadata": {},
   "outputs": [],
   "source": [
    "'''\n",
    "Two pointers is faster - O(n)\n",
    "'''\n",
    "class Solution:\n",
    "    def twoSum(self, numbers: List[int], target: int) -> List[int]:\n",
    "        # two-pointers\n",
    "        l, r = 0, len(numbers) - 1\n",
    "        while True:\n",
    "            summation = numbers[l] + numbers[r]\n",
    "            if summation == target: return [l+1, r+1]\n",
    "            elif summation > target: r -= 1\n",
    "            else: l += 1"
   ]
  },
  {
   "cell_type": "code",
   "execution_count": null,
   "metadata": {},
   "outputs": [],
   "source": [
    "'''\n",
    "Sorted array - Binary Search - O(nlgn)\n",
    "'''\n",
    "class Solution:\n",
    "    def twoSum(self, numbers: List[int], target: int) -> List[int]:\n",
    "        first_idx = 0\n",
    "        for i in range(len(numbers)):\n",
    "            difference = target - numbers[first_idx]\n",
    "            l, r = first_idx, len(numbers) - 1\n",
    "            while l <= r:\n",
    "                mid = l + (r-l) // 2\n",
    "                if numbers[mid] == difference and mid != first_idx: return [first_idx+1, mid+1]\n",
    "                elif numbers[mid] > difference: r = mid - 1\n",
    "                else: l = mid + 1\n",
    "            first_idx += 1"
   ]
  }
 ],
 "metadata": {
  "language_info": {
   "name": "python"
  }
 },
 "nbformat": 4,
 "nbformat_minor": 2
}
