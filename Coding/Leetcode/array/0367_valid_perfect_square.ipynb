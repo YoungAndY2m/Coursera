{
 "cells": [
  {
   "cell_type": "markdown",
   "metadata": {},
   "source": [
    "#### 367. Valid Perfect Square\n",
    "Given a positive integer num, return true if num is a perfect square or false otherwise.\n",
    "\n",
    "A perfect square is an integer that is the square of an integer. In other words, it is the product of some integer with itself.\n",
    "\n",
    "You must not use any built-in library function, such as sqrt.\n",
    "\n",
    "- Example 1:\n",
    "  - Input: num = 16\n",
    "  - Output: true\n",
    "  - Explanation: We return true because 4 * 4 = 16 and 4 is an integer.\n",
    "- Example 2:\n",
    "  - Input: num = 14\n",
    "  - Output: false\n",
    "  - Explanation: We return false because 3.742 * 3.742 = 14 and 3.742 is not an integer."
   ]
  },
  {
   "cell_type": "markdown",
   "metadata": {},
   "source": [
    "- 二分法可以讨巧一下\n",
    "  - 注意l和r的取值，类似sqrt这种如果超过一半答案肯定没有的可以直接在最开头就把r设置成 num // 2"
   ]
  },
  {
   "cell_type": "code",
   "execution_count": null,
   "metadata": {},
   "outputs": [],
   "source": [
    "'''\n",
    "Binary Search - 注意r的取值\n",
    "'''\n",
    "class Solution:\n",
    "    def isPerfectSquare(self, num: int) -> bool:\n",
    "        # base case\n",
    "        if num == 0 or num == 1: return True\n",
    "        # regular case\n",
    "        l, r = 1, num // 2\n",
    "        # [left, right]\n",
    "        while l <= r:\n",
    "            mid = l + (r-l) // 2\n",
    "            pow_2 = mid * mid\n",
    "            if pow_2 == num: return True\n",
    "            elif pow_2 < num: l = mid + 1\n",
    "            else: r = mid - 1\n",
    "        return False"
   ]
  },
  {
   "cell_type": "code",
   "execution_count": null,
   "metadata": {},
   "outputs": [],
   "source": [
    "'''\n",
    "Brute force - EXCEED TIME LIMIT\n",
    "'''\n",
    "class Solution:\n",
    "    def isPerfectSquare(self, num: int) -> bool:\n",
    "        # base case\n",
    "        if num == 0 or num == 1: return True\n",
    "        # regular case\n",
    "        for n in range(num):\n",
    "            if n * n == num:\n",
    "                return True\n",
    "        return False"
   ]
  }
 ],
 "metadata": {
  "kernelspec": {
   "display_name": "Python 3",
   "language": "python",
   "name": "python3"
  },
  "language_info": {
   "name": "python",
   "version": "3.11.4"
  }
 },
 "nbformat": 4,
 "nbformat_minor": 2
}
