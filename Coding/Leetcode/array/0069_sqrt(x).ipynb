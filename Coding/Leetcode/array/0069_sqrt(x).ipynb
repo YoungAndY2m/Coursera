{
 "cells": [
  {
   "cell_type": "markdown",
   "metadata": {},
   "source": [
    "#### 69. sqrt(x)\n",
    "Given a non-negative integer x, return the square root of x rounded down to the nearest integer. The returned integer should be non-negative as well.\n",
    "\n",
    "You must not use any built-in exponent function or operator.\n",
    "\n",
    "For example, do not use pow(x, 0.5) in c++ or x ** 0.5 in python.\n",
    "\n",
    "- Example 1:\n",
    "  - Input: x = 4\n",
    "  - Output: 2\n",
    "  - Explanation: The square root of 4 is 2, so we return 2.\n",
    "- Example 2:\n",
    "  - Input: x = 8\n",
    "  - Output: 2\n",
    "  - Explanation: The square root of 8 is 2.82842..., and since we round it down to the nearest integer, 2 is returned."
   ]
  },
  {
   "cell_type": "code",
   "execution_count": null,
   "metadata": {},
   "outputs": [],
   "source": [
    "'''\n",
    "Binary Search - O(log n)\n",
    "'''\n",
    "class Solution:\n",
    "    def mySqrt(self, x: int) -> int:\n",
    "        l, r = 0, x+1\n",
    "        ans = 0\n",
    "        # [l, r)\n",
    "        while l < r:\n",
    "            mid = (r + l) // 2\n",
    "            pow_2 = mid * mid\n",
    "            if pow_2 == x: \n",
    "                return mid\n",
    "            elif pow_2 < x:\n",
    "                ans = mid\n",
    "                l = mid + 1\n",
    "            else: # pow_2 > x\n",
    "                ans = mid - 1\n",
    "                r = mid\n",
    "        return ans"
   ]
  }
 ],
 "metadata": {
  "language_info": {
   "name": "python"
  }
 },
 "nbformat": 4,
 "nbformat_minor": 2
}
