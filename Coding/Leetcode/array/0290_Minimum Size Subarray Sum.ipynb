{
 "cells": [
  {
   "cell_type": "markdown",
   "metadata": {},
   "source": [
    "#### 290. Minimum Size Subarray Sum\n",
    "Given an array of positive integers nums and a positive integer target, return the minimal length of a \n",
    "subarray whose sum is greater than or equal to target. If there is no such subarray, return 0 instead.\n",
    "\n",
    "- Example 1:\n",
    "  - Input: target = 7, nums = [2,3,1,2,4,3]\n",
    "  - Output: 2\n",
    "  - Explanation: The subarray [4,3] has the minimal length under the problem constraint.\n",
    "- Example 2:\n",
    "  - Input: target = 4, nums = [1,4,4]\n",
    "  - Output: 1"
   ]
  },
  {
   "cell_type": "code",
   "execution_count": null,
   "metadata": {},
   "outputs": [],
   "source": [
    "'''\n",
    "Two pointers\n",
    "'''\n",
    "class Solution:\n",
    "    def minSubArrayLen(self, target: int, nums: List[int]) -> int:\n",
    "        # i: starting point\n",
    "        # j: ending point\n",
    "        i, j = 0, 0\n",
    "        summation, sublength = 0, len(nums) + 1\n",
    "        for j in range(len(nums)):\n",
    "            summation += nums[j]\n",
    "            while summation >= target:\n",
    "                sublength = min(sublength, j-i+1)\n",
    "                summation -= nums[i]\n",
    "                i += 1\n",
    "        \n",
    "        if sublength > len(nums): return 0\n",
    "        return sublength"
   ]
  }
 ],
 "metadata": {
  "language_info": {
   "name": "python"
  }
 },
 "nbformat": 4,
 "nbformat_minor": 2
}
