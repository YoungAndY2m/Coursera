{
 "cells": [
  {
   "cell_type": "markdown",
   "metadata": {},
   "source": [
    "#### 27. Remove element\n",
    "Given an integer array nums and an integer val, remove all occurrences of val in nums in-place. The order of the elements may be changed. Then return the number of elements in nums which are not equal to val.\n",
    "\n",
    "Consider the number of elements in nums which are not equal to val be k, to get accepted, you need to do the following things:\n",
    "\n",
    "Change the array nums such that the first k elements of nums contain the elements which are not equal to val. The remaining elements of nums are not important as well as the size of nums.\n",
    "Return k.\n",
    "\n",
    "- Example 1:\n",
    "  - Input: nums = [3,2,2,3], val = 3\n",
    "  - Output: 2, nums = [2,2,_,_]\n",
    "  - Explanation: Your function should return k = 2, with the first two elements of nums being 2.\n",
    "  - It does not matter what you leave beyond the returned k (hence they are underscores).\n",
    "- Example 2:\n",
    "  - Input: nums = [0,1,2,2,3,0,4,2], val = 2\n",
    "  - Output: 5, nums = [0,1,4,0,3,_,_,_]\n",
    "  - Explanation: Your function should return k = 5, with the first five elements of nums containing 0, 0, 1, 3, and 4.\n",
    "  - Note that the five elements can be returned in any order.\n"
   ]
  },
  {
   "cell_type": "code",
   "execution_count": null,
   "metadata": {},
   "outputs": [],
   "source": [
    "'''\n",
    "Two pointers - O(n)\n",
    "'''\n",
    "class Solution:\n",
    "    def removeElement(self, nums: List[int], val: int) -> int:\n",
    "        i = 0\n",
    "        for j in range(len(nums)):\n",
    "            if nums[j] == val: continue\n",
    "            else:\n",
    "                nums[i] = nums[j]\n",
    "                i += 1\n",
    "        return i"
   ]
  },
  {
   "cell_type": "code",
   "execution_count": null,
   "metadata": {},
   "outputs": [],
   "source": [
    "'''\n",
    "Two pointers - O(n)\n",
    "- fast: element that should be saved - loop through all elements\n",
    "- slow: the index of the saved element\n",
    "'''\n",
    "class Solution:\n",
    "    def removeElement(self, nums: List[int], val: int) -> int:\n",
    "        fast, slow = 0, 0\n",
    "        size = len(nums)\n",
    "        while fast < size:\n",
    "            # check whether the element should be kept\n",
    "            if nums[fast] != val:\n",
    "                nums[slow] = nums[fast]\n",
    "                slow += 1\n",
    "            fast += 1\n",
    "        return slow\n"
   ]
  },
  {
   "cell_type": "code",
   "execution_count": null,
   "metadata": {},
   "outputs": [],
   "source": [
    "'''\n",
    "Brute force - 2 for loops - O(n^2)\n",
    "'''\n",
    "class Solution:\n",
    "    def removeElement(self, nums: List[int], val: int) -> int:\n",
    "        i, size = 0, len(nums)\n",
    "        while i < size:\n",
    "            if nums[i] == val: # remove value\n",
    "                for j in range(i+1, size):\n",
    "                    nums[j-1] = nums[j]\n",
    "                i -= 1\n",
    "                size -= 1\n",
    "            i += 1\n",
    "        return size"
   ]
  }
 ],
 "metadata": {
  "language_info": {
   "name": "python"
  }
 },
 "nbformat": 4,
 "nbformat_minor": 2
}
