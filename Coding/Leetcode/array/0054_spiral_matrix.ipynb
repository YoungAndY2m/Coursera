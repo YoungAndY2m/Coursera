{
 "cells": [
  {
   "cell_type": "markdown",
   "metadata": {},
   "source": [
    "#### 54. Spiral Matrix\n",
    "Given an m x n matrix, return all elements of the matrix in spiral order.\n",
    "\n",
    "- Example 1:\n",
    "  - Input: matrix = [[1,2,3],[4,5,6],[7,8,9]]\n",
    "  - Output: [1,2,3,6,9,8,7,4,5]\n",
    "\n",
    "- Example 2:\n",
    "  - Input: matrix = [[1,2,3,4],[5,6,7,8],[9,10,11,12]]\n",
    "  - Output: [1,2,3,4,8,12,11,10,9,5,6,7]\n"
   ]
  },
  {
   "cell_type": "code",
   "execution_count": null,
   "metadata": {},
   "outputs": [],
   "source": [
    "'''\n",
    "Matrix注意上下左右关系\n",
    "'''\n",
    "class Solution:\n",
    "    def spiralOrder(self, matrix: List[List[int]]) -> List[int]:\n",
    "        result = []\n",
    "        m, n = len(matrix), len(matrix[0])\n",
    "        \n",
    "        # row, col starting point\n",
    "        top, bottom, left, right = 0, m - 1, 0, n - 1\n",
    "\n",
    "        while len(result) < m * n:\n",
    "            # top row - loop through columns\n",
    "            for j in range(left, right + 1):\n",
    "                result.append(matrix[top][j])\n",
    "            top += 1\n",
    "            # right_most column - loop through rows\n",
    "            for i in range(top, bottom + 1):\n",
    "                result.append(matrix[i][right])\n",
    "            right -= 1\n",
    "            # bottom row - loop through columns\n",
    "            if top <= bottom:\n",
    "                for j in range(right, left - 1, -1):\n",
    "                    result.append(matrix[bottom][j])\n",
    "                bottom -= 1\n",
    "            # left_most column\n",
    "            if left <= right:\n",
    "                for i in range(bottom, top - 1, -1):\n",
    "                    result.append(matrix[i][left])\n",
    "                left += 1\n",
    "\n",
    "        return result"
   ]
  }
 ],
 "metadata": {
  "language_info": {
   "name": "python"
  }
 },
 "nbformat": 4,
 "nbformat_minor": 2
}
