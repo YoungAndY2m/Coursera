{
 "cells": [
  {
   "cell_type": "markdown",
   "metadata": {},
   "source": [
    "#### 704. Binary Search\n",
    "Given an array of integers nums which is sorted in ascending order, and an integer target, write a function to search target in nums. If target exists, then return its index. Otherwise, return -1.\n",
    "\n",
    "You must write an algorithm with O(log n) runtime complexity."
   ]
  },
  {
   "cell_type": "markdown",
   "metadata": {},
   "source": [
    "#### 基础二分法：\n",
    "- 二分法要求：注意left，right，\n",
    "  - mid（防止溢出尽量不要直接(l+r) // 2，改用left +  (right-left) / 2\n",
    "- 左闭右闭\n",
    "- 左闭右开"
   ]
  },
  {
   "cell_type": "code",
   "execution_count": null,
   "metadata": {},
   "outputs": [],
   "source": [
    "'''\n",
    "[left, right] 左闭右闭\n",
    "'''\n",
    "\n",
    "class Solution:\n",
    "    def search(self, nums: List[int], target: int) -> int:\n",
    "        # Params preparation\n",
    "        left = 0\n",
    "        right = len(nums) - 1\n",
    "        # Used [left, right]\n",
    "        while left <= right:\n",
    "            mid = left + (right - left) // 2\n",
    "            if nums[mid] > target:\n",
    "                right = mid - 1\n",
    "            elif nums[mid] < target:\n",
    "                left = mid + 1\n",
    "            else:\n",
    "                return mid\n",
    "        # Didn't find\n",
    "        return -1"
   ]
  },
  {
   "cell_type": "code",
   "execution_count": null,
   "metadata": {},
   "outputs": [],
   "source": [
    "'''\n",
    "[left, right) 左闭右开\n",
    "'''\n",
    "\n",
    "class Solution:\n",
    "    def search(self, nums: List[int], target: int) -> int:\n",
    "        l, r = 0, len(nums)\n",
    "        while l < r:\n",
    "            mid_idx = l + (r-l) // 2\n",
    "            if target == nums[mid_idx]: return mid_idx\n",
    "            elif target > nums[mid_idx]: l = mid_idx + 1\n",
    "            else: # target < nums[mid_idx]\n",
    "                r = mid_idx\n",
    "        return -1"
   ]
  }
 ],
 "metadata": {
  "language_info": {
   "name": "python"
  }
 },
 "nbformat": 4,
 "nbformat_minor": 2
}
