{
 "cells": [
  {
   "cell_type": "markdown",
   "metadata": {},
   "source": [
    "- 在用int()的时候要注意string是否为空，所以recursion的时候可以直接pass substring到int param，不需要加int()"
   ]
  },
  {
   "cell_type": "code",
   "execution_count": null,
   "metadata": {},
   "outputs": [],
   "source": [
    "''' \n",
    "1. Two Sum\n",
    "'''\n",
    "class Solution:\n",
    "    def isPalindrome(self, x: int) -> bool:\n",
    "        num = str(x)\n",
    "        # Stop\n",
    "        if len(num) < 2: return True\n",
    "        return (num[0] == num[-1]) & self.isPalindrome(num[1:-1])"
   ]
  },
  {
   "cell_type": "markdown",
   "metadata": {},
   "source": [
    "- (太有用了！！！)判断是否为2次幂用`n & (n - 1) == 0`"
   ]
  },
  {
   "cell_type": "code",
   "execution_count": null,
   "metadata": {},
   "outputs": [],
   "source": [
    "'''\n",
    "231. Power of Two\n",
    "n = 1100\n",
    "(n - 1) = 1011\n",
    "n & (n - 1) = 1000\n",
    "\n",
    "n = 1000 -> 8\n",
    "(n - 1) = 0111 -> 7\n",
    "n & (n - 1) = 0000 = 0\n",
    "'''\n",
    "class Solution:\n",
    "    def isPowerOfTwo(self, n: int) -> bool:\n",
    "        return (n>0) and (n & n-1 == 0)"
   ]
  },
  {
   "cell_type": "markdown",
   "metadata": {},
   "source": [
    "- Matrix可以尝试用row, col = zip(matrix, zip(*matrix))"
   ]
  },
  {
   "cell_type": "code",
   "execution_count": null,
   "metadata": {},
   "outputs": [],
   "source": [
    "'''\n",
    "2133. Check if Every Row and Column Contains All Numbers\n",
    "'''\n",
    "class Solution:\n",
    "    def checkValid(self, matrix: List[List[int]]) -> bool:\n",
    "        n = len(matrix)\n",
    "        for row, col in zip(matrix, zip(*matrix)):\n",
    "            if len(set(row)) != n or len(set(col)) != n:\n",
    "                return False\n",
    "        return True"
   ]
  },
  {
   "cell_type": "markdown",
   "metadata": {},
   "source": [
    "- yield：生成器是一种特殊的迭代器，它允许您按需逐个生成值，而不是一次性生成所有值，从而节省内存并提高效率。生成器函数可以被迭代，每次迭代都会执行函数的代码，直到遇到 yield 语句。当遇到 yield 时，函数的状态被保存，当前的值被返回给调用者，然后暂停执行，等待下一次迭代。\n",
    "- yield from：是 Python 中用于简化生成器函数的语法结构，它允许一个生成器委托部分或全部任务给另一个生成器。这可以使代码更加清晰和模块化，特别是在处理嵌套生成器时。\n",
    "- itertools.zip_longest：用于将多个可迭代对象（通常是列表或元组）的元素按照最长的那个进行配对。如果某个可迭代对象较短，那么将使用指定的填充值填充其不足的部分。\n",
    "  - itertools.zip_longest(iterable1, iterable2, ..., fillvalue=None)"
   ]
  },
  {
   "cell_type": "code",
   "execution_count": 1,
   "metadata": {},
   "outputs": [
    {
     "name": "stdout",
     "output_type": "stream",
     "text": [
      "[(1, 'a'), (2, 'b'), (3, 0)]\n"
     ]
    }
   ],
   "source": [
    "import itertools\n",
    "\n",
    "list1 = [1, 2, 3]\n",
    "list2 = ['a', 'b']\n",
    "result = list(itertools.zip_longest(list1, list2, fillvalue=0))\n",
    "\n",
    "print(result)"
   ]
  },
  {
   "cell_type": "code",
   "execution_count": null,
   "metadata": {},
   "outputs": [],
   "source": [
    "'''\n",
    "872. Leaf Similar Tree\n",
    "'''\n",
    "# Definition for a binary tree node.\n",
    "# class TreeNode:\n",
    "#     def __init__(self, val=0, left=None, right=None):\n",
    "#         self.val = val\n",
    "#         self.left = left\n",
    "#         self.right = right\n",
    "class Solution:\n",
    "    def leafSimilar(self, root1: Optional[TreeNode], root2: Optional[TreeNode]) -> bool:\n",
    "        def treeseq(root):\n",
    "            if root.left or root.right:\n",
    "                if root.left:\n",
    "                    yield from treeseq(root.left)\n",
    "                if root.right:\n",
    "                    yield from treeseq(root.right)\n",
    "            else:\n",
    "                yield root.val\n",
    "                \n",
    "        return all(v1==v2 for v1,v2 in itertools.zip_longest(treeseq(root1), treeseq(root2)))"
   ]
  },
  {
   "cell_type": "markdown",
   "metadata": {},
   "source": [
    "- BFS\n",
    "- DFS"
   ]
  },
  {
   "cell_type": "code",
   "execution_count": null,
   "metadata": {},
   "outputs": [],
   "source": [
    "def bfs(root):\n",
    "    if not root:\n",
    "        return []\n",
    "\n",
    "    result = []\n",
    "    queue = deque([root])\n",
    "\n",
    "    while queue:\n",
    "        node = queue.popleft()\n",
    "        result.append(node.val)\n",
    "\n",
    "        if node.left:\n",
    "            queue.append(node.left)\n",
    "        if node.right:\n",
    "            queue.append(node.right)\n",
    "\n",
    "    return result"
   ]
  },
  {
   "cell_type": "code",
   "execution_count": null,
   "metadata": {},
   "outputs": [],
   "source": [
    "def dfs(node):\n",
    "    if node is None:\n",
    "        return\n",
    "    if node.left:\n",
    "        graph[node.val].append(node.left.val)\n",
    "        graph[node.left.val].append(node.val)\n",
    "    if node.right:\n",
    "        graph[node.val].append(node.right.val)\n",
    "        graph[node.right.val].append(node.val)\n",
    "    dfs(node.left)\n",
    "    dfs(node.right)\n",
    "\n",
    "def dfs(node):\n",
    "    if not node:\n",
    "        return []\n",
    "\n",
    "    result = []\n",
    "\n",
    "    def traverse(root):\n",
    "        if root:\n",
    "            result.append(root.val)\n",
    "            traverse(root.left)\n",
    "            traverse(root.right)\n",
    "\n",
    "    traverse(node)\n",
    "    return result"
   ]
  }
 ],
 "metadata": {
  "kernelspec": {
   "display_name": "Python 3",
   "language": "python",
   "name": "python3"
  },
  "language_info": {
   "codemirror_mode": {
    "name": "ipython",
    "version": 3
   },
   "file_extension": ".py",
   "mimetype": "text/x-python",
   "name": "python",
   "nbconvert_exporter": "python",
   "pygments_lexer": "ipython3",
   "version": "3.11.4"
  }
 },
 "nbformat": 4,
 "nbformat_minor": 2
}
