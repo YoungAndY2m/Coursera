{
 "cells": [
  {
   "cell_type": "markdown",
   "metadata": {},
   "source": [
    "- 在用int()的时候要注意string是否为空，所以recursion的时候可以直接pass substring到int param，不需要加int()"
   ]
  },
  {
   "cell_type": "code",
   "execution_count": null,
   "metadata": {},
   "outputs": [],
   "source": [
    "''' \n",
    "1. Two Sum\n",
    "'''\n",
    "class Solution:\n",
    "    def isPalindrome(self, x: int) -> bool:\n",
    "        num = str(x)\n",
    "        # Stop\n",
    "        if len(num) < 2: return True\n",
    "        return (num[0] == num[-1]) & self.isPalindrome(num[1:-1])"
   ]
  },
  {
   "cell_type": "markdown",
   "metadata": {},
   "source": [
    "- (太有用了！！！)判断是否为2次幂用`n & (n - 1) == 0`"
   ]
  },
  {
   "cell_type": "code",
   "execution_count": null,
   "metadata": {},
   "outputs": [],
   "source": [
    "'''\n",
    "231. Power of Two\n",
    "n = 1100\n",
    "(n - 1) = 1011\n",
    "n & (n - 1) = 1000\n",
    "\n",
    "n = 1000 -> 8\n",
    "(n - 1) = 0111 -> 7\n",
    "n & (n - 1) = 0000 = 0\n",
    "'''\n",
    "class Solution:\n",
    "    def isPowerOfTwo(self, n: int) -> bool:\n",
    "        return (n>0) and (n & n-1 == 0)"
   ]
  },
  {
   "cell_type": "markdown",
   "metadata": {},
   "source": [
    "- Matrix可以尝试用row, col = zip(matrix, zip(*matrix))"
   ]
  },
  {
   "cell_type": "code",
   "execution_count": null,
   "metadata": {},
   "outputs": [],
   "source": [
    "'''\n",
    "2133. Check if Every Row and Column Contains All Numbers\n",
    "'''\n",
    "class Solution:\n",
    "    def checkValid(self, matrix: List[List[int]]) -> bool:\n",
    "        n = len(matrix)\n",
    "        for row, col in zip(matrix, zip(*matrix)):\n",
    "            if len(set(row)) != n or len(set(col)) != n:\n",
    "                return False\n",
    "        return True"
   ]
  }
 ],
 "metadata": {
  "language_info": {
   "name": "python"
  }
 },
 "nbformat": 4,
 "nbformat_minor": 2
}
