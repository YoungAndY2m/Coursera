{
 "cells": [
  {
   "cell_type": "markdown",
   "metadata": {},
   "source": [
    "- 在用int()的时候要注意string是否为空，所以recursion的时候可以直接pass substring到int param，不需要加int()"
   ]
  },
  {
   "cell_type": "code",
   "execution_count": null,
   "metadata": {},
   "outputs": [],
   "source": [
    "''' \n",
    "1. Two Sum\n",
    "'''\n",
    "class Solution:\n",
    "    def isPalindrome(self, x: int) -> bool:\n",
    "        num = str(x)\n",
    "        # Stop\n",
    "        if len(num) < 2: return True\n",
    "        return (num[0] == num[-1]) & self.isPalindrome(num[1:-1])\n",
    "    "
   ]
  },
  {
   "cell_type": "markdown",
   "metadata": {},
   "source": [
    "- (太有用了！！！)判断是否为2次幂用`n & (n - 1) == 0`"
   ]
  },
  {
   "cell_type": "code",
   "execution_count": null,
   "metadata": {},
   "outputs": [],
   "source": [
    "'''\n",
    "231. Power of Two\n",
    "n = 1100\n",
    "(n - 1) = 1011\n",
    "n & (n - 1) = 1000\n",
    "\n",
    "n = 1000 -> 8\n",
    "(n - 1) = 0111 -> 7\n",
    "n & (n - 1) = 0000 = 0\n",
    "'''\n",
    "class Solution:\n",
    "    def isPowerOfTwo(self, n: int) -> bool:\n",
    "        return (n>0) and (n & n-1 == 0)"
   ]
  },
  {
   "cell_type": "markdown",
   "metadata": {},
   "source": [
    "- Matrix可以尝试用row, col = zip(matrix, zip(*matrix))"
   ]
  },
  {
   "cell_type": "code",
   "execution_count": null,
   "metadata": {},
   "outputs": [],
   "source": [
    "'''\n",
    "2133. Check if Every Row and Column Contains All Numbers\n",
    "'''\n",
    "class Solution:\n",
    "    def checkValid(self, matrix: List[List[int]]) -> bool:\n",
    "        n = len(matrix)\n",
    "        for row, col in zip(matrix, zip(*matrix)):\n",
    "            if len(set(row)) != n or len(set(col)) != n:\n",
    "                return False\n",
    "        return True"
   ]
  },
  {
   "cell_type": "markdown",
   "metadata": {},
   "source": [
    "- yield：生成器是一种特殊的迭代器，它允许您按需逐个生成值，而不是一次性生成所有值，从而节省内存并提高效率。生成器函数可以被迭代，每次迭代都会执行函数的代码，直到遇到 yield 语句。当遇到 yield 时，函数的状态被保存，当前的值被返回给调用者，然后暂停执行，等待下一次迭代。\n",
    "- yield from：是 Python 中用于简化生成器函数的语法结构，它允许一个生成器委托部分或全部任务给另一个生成器。这可以使代码更加清晰和模块化，特别是在处理嵌套生成器时。\n",
    "- itertools.zip_longest：用于将多个可迭代对象（通常是列表或元组）的元素按照最长的那个进行配对。如果某个可迭代对象较短，那么将使用指定的填充值填充其不足的部分。\n",
    "  - itertools.zip_longest(iterable1, iterable2, ..., fillvalue=None)"
   ]
  },
  {
   "cell_type": "code",
   "execution_count": 1,
   "metadata": {},
   "outputs": [
    {
     "name": "stdout",
     "output_type": "stream",
     "text": [
      "[(1, 'a'), (2, 'b'), (3, 0)]\n"
     ]
    }
   ],
   "source": [
    "import itertools\n",
    "\n",
    "list1 = [1, 2, 3]\n",
    "list2 = ['a', 'b']\n",
    "result = list(itertools.zip_longest(list1, list2, fillvalue=0))\n",
    "\n",
    "print(result)"
   ]
  },
  {
   "cell_type": "code",
   "execution_count": null,
   "metadata": {},
   "outputs": [],
   "source": [
    "'''\n",
    "872. Leaf Similar Tree\n",
    "'''\n",
    "# Definition for a binary tree node.\n",
    "# class TreeNode:\n",
    "#     def __init__(self, val=0, left=None, right=None):\n",
    "#         self.val = val\n",
    "#         self.left = left\n",
    "#         self.right = right\n",
    "class Solution:\n",
    "    def leafSimilar(self, root1: Optional[TreeNode], root2: Optional[TreeNode]) -> bool:\n",
    "        def treeseq(root):\n",
    "            if root.left or root.right:\n",
    "                if root.left:\n",
    "                    yield from treeseq(root.left)\n",
    "                if root.right:\n",
    "                    yield from treeseq(root.right)\n",
    "            else:\n",
    "                yield root.val\n",
    "                \n",
    "        return all(v1==v2 for v1,v2 in itertools.zip_longest(treeseq(root1), treeseq(root2)))"
   ]
  },
  {
   "cell_type": "markdown",
   "metadata": {},
   "source": [
    "- BFS\n",
    "- DFS"
   ]
  },
  {
   "cell_type": "code",
   "execution_count": null,
   "metadata": {},
   "outputs": [],
   "source": [
    "def bfs(root):\n",
    "    if not root:\n",
    "        return []\n",
    "\n",
    "    result = []\n",
    "    queue = deque([root])\n",
    "\n",
    "    while queue:\n",
    "        node = queue.popleft()\n",
    "        result.append(node.val)\n",
    "\n",
    "        if node.left:\n",
    "            queue.append(node.left)\n",
    "        if node.right:\n",
    "            queue.append(node.right)\n",
    "\n",
    "    return result"
   ]
  },
  {
   "cell_type": "code",
   "execution_count": null,
   "metadata": {},
   "outputs": [],
   "source": [
    "def dfs(node):\n",
    "    if node is None:\n",
    "        return\n",
    "    if node.left:\n",
    "        graph[node.val].append(node.left.val)\n",
    "        graph[node.left.val].append(node.val)\n",
    "    if node.right:\n",
    "        graph[node.val].append(node.right.val)\n",
    "        graph[node.right.val].append(node.val)\n",
    "    dfs(node.left)\n",
    "    dfs(node.right)\n",
    "\n",
    "def dfs(node):\n",
    "    if not node:\n",
    "        return []\n",
    "\n",
    "    result = []\n",
    "\n",
    "    def traverse(root):\n",
    "        if root:\n",
    "            result.append(root.val)\n",
    "            traverse(root.left)\n",
    "            traverse(root.right)\n",
    "\n",
    "    traverse(node)\n",
    "    return result"
   ]
  },
  {
   "cell_type": "code",
   "execution_count": null,
   "metadata": {},
   "outputs": [],
   "source": [
    "\"\"\" \n",
    "1026. Maximum Difference Between Node and Ancestor\n",
    "\"\"\"\n",
    "# Definition for a binary tree node.\n",
    "# class TreeNode:\n",
    "#     def __init__(self, val=0, left=None, right=None):\n",
    "#         self.val = val\n",
    "#         self.left = left\n",
    "#         self.right = right\n",
    "class Solution:\n",
    "    def maxAncestorDiff(self, root: Optional[TreeNode]) -> int:\n",
    "        def dfs(node, min_val, max_val):\n",
    "            if not node:\n",
    "                return max_val - min_val\n",
    "\n",
    "            # 计算当前节点的最小值和最大值\n",
    "            min_val = min(min_val, node.val)\n",
    "            max_val = max(max_val, node.val)\n",
    "\n",
    "            # 递归处理左子树和右子树，返回较大的差值\n",
    "            left_diff = dfs(node.left, min_val, max_val)\n",
    "            right_diff = dfs(node.right, min_val, max_val)\n",
    "\n",
    "            return max(left_diff, right_diff)\n",
    "\n",
    "        if not root:\n",
    "            return 0\n",
    "\n",
    "        return dfs(root, root.val, root.val)"
   ]
  },
  {
   "cell_type": "markdown",
   "metadata": {},
   "source": [
    "- 无穷大和无穷小"
   ]
  },
  {
   "cell_type": "code",
   "execution_count": 1,
   "metadata": {},
   "outputs": [
    {
     "name": "stdout",
     "output_type": "stream",
     "text": [
      "inf -inf\n"
     ]
    }
   ],
   "source": [
    "infinity = float('inf')\n",
    "neginfinity = float('-inf')\n",
    "print(infinity, neginfinity)"
   ]
  },
  {
   "cell_type": "markdown",
   "metadata": {},
   "source": [
    "- K_Sum_Closest"
   ]
  },
  {
   "cell_type": "code",
   "execution_count": null,
   "metadata": {},
   "outputs": [],
   "source": [
    "class Solution:\n",
    "    def threeSumClosest(self, nums: List[int], target: int) -> int:\n",
    "        nums.sort()\n",
    "        return self.kSumClosest(nums, 3, target)\n",
    "        \n",
    "    def kSumClosest(self, nums, k, target):\n",
    "        N = len(nums)\n",
    "        # Special case where we only have k elements in nums. Return only option\n",
    "        if N == k:\n",
    "            return sum(nums[:k])\n",
    "        \n",
    "        # special case where the target is way too low\n",
    "        # we give the lowest we can\n",
    "        if sum(nums[:k]) >= target:\n",
    "            return sum(nums[:k])\n",
    "        \n",
    "        # special case where the target is too high\n",
    "        # we give the largest we can\n",
    "        if sum(nums[-k:]) <= target:\n",
    "            return sum(nums[-k:])\n",
    "        \n",
    "        # base case. look for the closest element\n",
    "        if k == 1:\n",
    "            # the element is the first and the delta is the second\n",
    "            deltas = [(x, abs(target-x)) for x in nums]\n",
    "            return min(deltas, key = lambda x: x[1])[0]\n",
    "        \n",
    "        # pick one element out and recursively search for closest match with k being one less\n",
    "        closest = sum(nums[:k])\n",
    "        for i,x in enumerate(nums):\n",
    "            # small optimization to handle duplicate x values\n",
    "            if i>0 and nums[i-1] == x:\n",
    "                continue\n",
    "                \n",
    "            bestMatch = self.kSumClosest(nums[i+1:], k-1, target-x)\n",
    "            current = x + bestMatch\n",
    "            if abs(target-current) < abs(target-closest):\n",
    "                if target == current:\n",
    "                    return current\n",
    "                else:\n",
    "                    closest = current\n",
    "                    \n",
    "        return closest"
   ]
  },
  {
   "cell_type": "markdown",
   "metadata": {},
   "source": [
    "- if stack 或者 if len(stack) > 0\n",
    "  - 在 Python 中，if stack 更加直观且通常更快。这是因为 if stack 会利用 Python 的内置类型特性，在 stack 为空时返回 False，在不为空时返回 True。\n",
    "  - 相反，if len(stack) > 0 则需要调用 len() 函数来计算堆栈的长度，然后再执行比较操作。这需要更多的计算步骤和内存开销，因此通常会比 if stack 更慢。"
   ]
  },
  {
   "cell_type": "code",
   "execution_count": null,
   "metadata": {},
   "outputs": [],
   "source": [
    "''' \n",
    "1047. Remove all adjacent duplicates in string\n",
    "'''\n",
    "class Solution:\n",
    "    def removeDuplicates(self, s: str) -> str:\n",
    "        stack = \"\"\n",
    "        for ch in s:\n",
    "            if len(stack) > 0 and ch == stack[-1]: ## 改成if stack and ch == stack[-1]\n",
    "                stack = stack[0:-1]\n",
    "            else:\n",
    "                stack += ch\n",
    "        return stack"
   ]
  },
  {
   "cell_type": "markdown",
   "metadata": {},
   "source": [
    "- python heapq默认MinHeap, 如果要MaxHeap可以push相反数"
   ]
  },
  {
   "cell_type": "code",
   "execution_count": 1,
   "metadata": {},
   "outputs": [
    {
     "name": "stdout",
     "output_type": "stream",
     "text": [
      "Max Element: 7\n"
     ]
    }
   ],
   "source": [
    "import heapq\n",
    "\n",
    "# 创建一个空的最大堆\n",
    "max_heap = []\n",
    "\n",
    "# 向最大堆中插入元素（通过取相反数）\n",
    "heapq.heappush(max_heap, -4)\n",
    "heapq.heappush(max_heap, -1)\n",
    "heapq.heappush(max_heap, -7)\n",
    "heapq.heappush(max_heap, -3)\n",
    "heapq.heappush(max_heap, -2)\n",
    "\n",
    "# 删除并返回最大堆中的最大元素（通过取相反数）\n",
    "max_element = -heapq.heappop(max_heap)\n",
    "print(\"Max Element:\", max_element)"
   ]
  },
  {
   "cell_type": "markdown",
   "metadata": {},
   "source": [
    "- defaultdict(Counter)\n",
    "- defaultdict(lambda:[0, 0])"
   ]
  },
  {
   "cell_type": "code",
   "execution_count": null,
   "metadata": {},
   "outputs": [],
   "source": [
    "from collections import Counter\n",
    "class Solution:\n",
    "    def findWinners(self, matches: List[List[int]]) -> List[List[int]]:\n",
    "        win_lose = defaultdict(lambda:[0,0])\n",
    "        for winner, loser in matches:\n",
    "            win_lose[winner][0] += 1\n",
    "            win_lose[loser][1] += 1\n",
    "        lose_0 = sorted([key for key, value in win_lose.items() if value[1] == 0])\n",
    "        lose_1 = sorted([key for key, value in win_lose.items() if value[1] == 1])\n",
    "        return [lose_0, lose_1]"
   ]
  },
  {
   "cell_type": "markdown",
   "metadata": {},
   "source": [
    "- Binary Search Challenge"
   ]
  }
 ],
 "metadata": {
  "kernelspec": {
   "display_name": "Python 3",
   "language": "python",
   "name": "python3"
  },
  "language_info": {
   "codemirror_mode": {
    "name": "ipython",
    "version": 3
   },
   "file_extension": ".py",
   "mimetype": "text/x-python",
   "name": "python",
   "nbconvert_exporter": "python",
   "pygments_lexer": "ipython3",
   "version": "3.11.4"
  }
 },
 "nbformat": 4,
 "nbformat_minor": 2
}
