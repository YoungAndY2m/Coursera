{
 "cells": [
  {
   "cell_type": "markdown",
   "metadata": {},
   "source": [
    "#### 19. Remove Nth Node From End of List\n",
    "Given the head of a linked list, remove the nth node from the end of the list and return its head.\n",
    "\n",
    "- Example 1\n",
    "  - Input: head = [1,2,3,4,5], n = 2\n",
    "  - Output: [1,2,3,5]\n",
    "\n",
    "- Example 2\n",
    "  - Input: head = [1], n = 1\n",
    "  - Output: []"
   ]
  },
  {
   "cell_type": "code",
   "execution_count": null,
   "metadata": {},
   "outputs": [],
   "source": [
    "'''\n",
    "Dummy_head + Two pointers\n",
    "'''\n",
    "# Definition for singly-linked list.\n",
    "# class ListNode:\n",
    "#     def __init__(self, val=0, next=None):\n",
    "#         self.val = val\n",
    "#         self.next = next\n",
    "class Solution:\n",
    "    def removeNthFromEnd(self, head: Optional[ListNode], n: int) -> Optional[ListNode]:\n",
    "        dummy_head = ListNode()\n",
    "        dummy_head.next = head\n",
    "        fast, slow = dummy_head, dummy_head\n",
    "        # make sure fast is n+1 step ahead of slow\n",
    "        for _ in range(n + 1):\n",
    "            fast = fast.next\n",
    "        # go together until fast reach the end\n",
    "        while fast != None:\n",
    "            fast = fast.next\n",
    "            slow = slow.next\n",
    "        \n",
    "        slow.next = slow.next.next\n",
    "\n",
    "        return dummy_head.next"
   ]
  }
 ],
 "metadata": {
  "language_info": {
   "name": "python"
  }
 },
 "nbformat": 4,
 "nbformat_minor": 2
}
