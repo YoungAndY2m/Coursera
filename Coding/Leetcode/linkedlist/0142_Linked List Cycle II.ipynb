{
 "cells": [
  {
   "cell_type": "markdown",
   "metadata": {},
   "source": [
    "#### 142. Linked List Cycle II\n",
    "Given the head of a linked list, return the node where the cycle begins. If there is no cycle, return null.\n",
    "\n",
    "There is a cycle in a linked list if there is some node in the list that can be reached again by continuously following the next pointer. Internally, pos is used to denote the index of the node that tail's next pointer is connected to (0-indexed). It is -1 if there is no cycle. Note that pos is not passed as a parameter.\n",
    "\n",
    "Do not modify the linked list.\n",
    "\n",
    "- Example 1\n",
    "  - Input: head = [3,2,0,-4], pos = 1\n",
    "  - Output: tail connects to node index 1\n",
    "  - Explanation: There is a cycle in the linked list, where tail connects to the second node.\n",
    "\n",
    "- Example 2\n",
    "  - Input: head = [1], pos = -1\n",
    "  - Output: no cycle\n",
    "  - Explanation: There is no cycle in the linked list."
   ]
  },
  {
   "cell_type": "code",
   "execution_count": null,
   "metadata": {},
   "outputs": [],
   "source": [
    "'''\n",
    "Two pointers (fast + slow): determine whether there's a cycle\n",
    "Use index (math equation): determine the location\n",
    "'''\n",
    "# Definition for singly-linked list.\n",
    "# class ListNode:\n",
    "#     def __init__(self, x):\n",
    "#         self.val = x\n",
    "#         self.next = None\n",
    "\n",
    "class Solution:\n",
    "    def detectCycle(self, head: Optional[ListNode]) -> Optional[ListNode]:\n",
    "        fast = slow = head\n",
    "        while fast and fast.next:\n",
    "            fast = fast.next.next\n",
    "            slow = slow.next\n",
    "            if fast == slow:\n",
    "                idx1 = fast\n",
    "                idx2 = head\n",
    "                while idx1 != idx2:\n",
    "                    idx1 = idx1.next\n",
    "                    idx2 = idx2.next\n",
    "                return idx1\n",
    "        return None"
   ]
  },
  {
   "cell_type": "code",
   "execution_count": null,
   "metadata": {},
   "outputs": [],
   "source": [
    "'''\n",
    "Set\n",
    "'''\n",
    "# Definition for singly-linked list.\n",
    "# class ListNode:\n",
    "#     def __init__(self, x):\n",
    "#         self.val = x\n",
    "#         self.next = None\n",
    "\n",
    "class Solution:\n",
    "    def detectCycle(self, head: Optional[ListNode]) -> Optional[ListNode]:\n",
    "        visited = set()\n",
    "        \n",
    "        while head:\n",
    "            if head in visited:\n",
    "                return head\n",
    "            visited.add(head)\n",
    "            head = head.next\n",
    "        \n",
    "        return None"
   ]
  }
 ],
 "metadata": {
  "language_info": {
   "name": "python"
  }
 },
 "nbformat": 4,
 "nbformat_minor": 2
}
