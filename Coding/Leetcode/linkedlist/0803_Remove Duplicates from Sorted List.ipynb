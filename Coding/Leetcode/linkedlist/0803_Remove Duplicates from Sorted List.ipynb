{
 "cells": [
  {
   "cell_type": "markdown",
   "metadata": {},
   "source": [
    "#### 83. Remove Duplicates from Sorted List\n",
    "Given the head of a sorted linked list, delete all duplicates such that each element appears only once. Return the linked list sorted as well.\n",
    "- Example 1\n",
    "  - Input: head = [1,1,2]\n",
    "  - Output: [1,2]\n",
    "- Example 2\n",
    "  - Input: head = [1,1,2,3,3]\n",
    "  - Output: [1,2,3]"
   ]
  },
  {
   "cell_type": "code",
   "execution_count": null,
   "metadata": {},
   "outputs": [],
   "source": [
    "'''\n",
    "Normal situation\n",
    "'''\n",
    "# Definition for singly-linked list.\n",
    "# class ListNode:\n",
    "#     def __init__(self, val=0, next=None):\n",
    "#         self.val = val\n",
    "#         self.next = next\n",
    "class Solution:\n",
    "    def deleteDuplicates(self, head: Optional[ListNode]) -> Optional[ListNode]:\n",
    "        if head == None: return head\n",
    "        # 2 situation\n",
    "        # head is duplicates, find the non-duplicate head\n",
    "        while head.next != None and head.val == head.next.val:\n",
    "            head = head.next\n",
    "        # after find the head, find all duplicates\n",
    "        pre = head # keep\n",
    "        cur = head.next # iterate\n",
    "        while cur != None and cur.next != None:\n",
    "            if cur.val != cur.next.val:\n",
    "                pre = cur\n",
    "                cur = cur.next\n",
    "            else:\n",
    "                cur = cur.next\n",
    "                pre.next = cur\n",
    "\n",
    "        return head"
   ]
  },
  {
   "cell_type": "code",
   "execution_count": null,
   "metadata": {},
   "outputs": [],
   "source": [
    "'''\n",
    "Dummy_head\n",
    "'''\n",
    "# Definition for singly-linked list.\n",
    "# class ListNode:\n",
    "#     def __init__(self, val=0, next=None):\n",
    "#         self.val = val\n",
    "#         self.next = next\n",
    "class Solution:\n",
    "    def deleteDuplicates(self, head: Optional[ListNode]) -> Optional[ListNode]:\n",
    "        # dummy-head situation\n",
    "        dummy_head = ListNode()\n",
    "        dummy_head.next = head\n",
    "\n",
    "        pre = dummy_head\n",
    "        cur = head\n",
    "        while cur != None and cur.next != None:\n",
    "            if cur.val == cur.next.val:\n",
    "                cur = cur.next\n",
    "                pre.next = cur\n",
    "            else:\n",
    "                pre = cur\n",
    "                cur = cur.next\n",
    "\n",
    "        return dummy_head.next"
   ]
  },
  {
   "cell_type": "code",
   "execution_count": null,
   "metadata": {},
   "outputs": [],
   "source": [
    "'''\n",
    "Recursion\n",
    "'''\n",
    "# Definition for singly-linked list.\n",
    "# class ListNode:\n",
    "#     def __init__(self, val=0, next=None):\n",
    "#         self.val = val\n",
    "#         self.next = next\n",
    "class Solution:\n",
    "    def deleteDuplicates(self, head: Optional[ListNode]) -> Optional[ListNode]:\n",
    "        if head == None or head.next == None:\n",
    "            return head\n",
    "        head.next = self.deleteDuplicates(head.next)\n",
    "        return head.next if head.val == head.next.val else head"
   ]
  }
 ],
 "metadata": {
  "language_info": {
   "name": "python"
  }
 },
 "nbformat": 4,
 "nbformat_minor": 2
}
