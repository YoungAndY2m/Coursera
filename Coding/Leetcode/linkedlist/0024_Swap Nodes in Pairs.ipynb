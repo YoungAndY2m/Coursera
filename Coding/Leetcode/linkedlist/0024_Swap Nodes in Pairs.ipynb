{
 "cells": [
  {
   "cell_type": "markdown",
   "metadata": {},
   "source": [
    "#### 24. Swap Nodes in Pairs\n"
   ]
  },
  {
   "cell_type": "code",
   "execution_count": null,
   "metadata": {},
   "outputs": [],
   "source": [
    "'''\n",
    "Dummy_head\n",
    "'''\n",
    "# Definition for singly-linked list.\n",
    "# class ListNode:\n",
    "#     def __init__(self, val=0, next=None):\n",
    "#         self.val = val\n",
    "#         self.next = next\n",
    "class Solution:\n",
    "    def swapPairs(self, head: Optional[ListNode]) -> Optional[ListNode]:\n",
    "        dummy_head = ListNode()\n",
    "        dummy_head.next = head\n",
    "        cur = dummy_head\n",
    "        while cur.next != None and cur.next.next != None:\n",
    "            temp = cur.next\n",
    "            cur.next = temp.next\n",
    "            temp.next = cur.next.next\n",
    "            cur.next.next = temp\n",
    "            cur = temp\n",
    "        return dummy_head.next\n"
   ]
  },
  {
   "cell_type": "code",
   "execution_count": null,
   "metadata": {},
   "outputs": [],
   "source": [
    "'''\n",
    "Recursive method\n",
    "'''\n",
    "# Definition for singly-linked list.\n",
    "# class ListNode:\n",
    "#     def __init__(self, val=0, next=None):\n",
    "#         self.val = val\n",
    "#         self.next = next\n",
    "class Solution:\n",
    "    def swapPairs(self, head: Optional[ListNode]) -> Optional[ListNode]:\n",
    "        if head == None or head.next == None: return head\n",
    "\n",
    "        # default\n",
    "        pre = head\n",
    "        cur = head.next\n",
    "        temp = cur.next\n",
    "\n",
    "        cur.next = pre\n",
    "        pre.next = self.swapPairs(temp)\n",
    "\n",
    "        return cur\n"
   ]
  },
  {
   "cell_type": "code",
   "execution_count": null,
   "metadata": {},
   "outputs": [],
   "source": [
    "'''\n",
    "Another recursive approach\n",
    "'''\n",
    "# Definition for singly-linked list.\n",
    "# class ListNode:\n",
    "#     def __init__(self, val=0, next=None):\n",
    "#         self.val = val\n",
    "#         self.next = next\n",
    "class Solution:\n",
    "    def swapPairs(self, head: Optional[ListNode]) -> Optional[ListNode]:\n",
    "        if head == None or head.next == None: return head\n",
    "\n",
    "        temp = head.next\n",
    "        head.next = self.swapPairs(temp.next)\n",
    "        temp.next = head\n",
    "        return temp\n"
   ]
  }
 ],
 "metadata": {
  "language_info": {
   "name": "python"
  }
 },
 "nbformat": 4,
 "nbformat_minor": 2
}
