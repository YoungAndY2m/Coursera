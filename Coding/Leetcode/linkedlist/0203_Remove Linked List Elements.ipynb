{
 "cells": [
  {
   "cell_type": "markdown",
   "metadata": {},
   "source": [
    "#### 203. Remove Linked List Elements\n",
    "Given the head of a linked list and an integer val, remove all the nodes of the linked list that has Node.val == val, and return the new head.\n",
    "\n",
    "- Example 1:\n",
    "  - Input: head = [1,2,6,3,4,5,6], val = 6\n",
    "  - Output: [1,2,3,4,5]\n",
    "- Example 2:\n",
    "  - Input: head = [7,7,7,7], val = 7\n",
    "  - Output: []"
   ]
  },
  {
   "cell_type": "markdown",
   "metadata": {},
   "source": [
    "- 常规做法：具体问题具体分析，根据Linked List Property来写\n",
    "- 虚拟head - 合并不同的situation，改成一个situation"
   ]
  },
  {
   "cell_type": "code",
   "execution_count": null,
   "metadata": {},
   "outputs": [],
   "source": [
    "'''\n",
    "常规做法 - 具体问题具体分析\n",
    "Linked List remove element: two situations - O(n)\n",
    "'''\n",
    "# Definition for singly-linked list.\n",
    "# class ListNode:\n",
    "#     def __init__(self, val=0, next=None):\n",
    "#         self.val = val\n",
    "#         self.next = next\n",
    "class Solution:\n",
    "    def removeElements(self, head: Optional[ListNode], val: int) -> Optional[ListNode]:\n",
    "        # two situations\n",
    "        # find the head that does not equals to val\n",
    "        while head != None and head.val == val:\n",
    "            head = head.next\n",
    "        # set a pointer to loop through the remainders\n",
    "        cur = head\n",
    "        while cur != None and cur.next != None:\n",
    "            if cur.next.val == val:\n",
    "                cur.next = cur.next.next\n",
    "            else: # cur.next.val != val --> step through\n",
    "                cur = cur.next\n",
    "        return head"
   ]
  },
  {
   "cell_type": "code",
   "execution_count": null,
   "metadata": {},
   "outputs": [],
   "source": [
    "'''\n",
    "Dummy head - combine two situations into one.\n",
    "'''\n",
    "# Definition for singly-linked list.\n",
    "# class ListNode:\n",
    "#     def __init__(self, val=0, next=None):\n",
    "#         self.val = val\n",
    "#         self.next = next\n",
    "class Solution:\n",
    "    def removeElements(self, head: Optional[ListNode], val: int) -> Optional[ListNode]:\n",
    "        # dummy head situation\n",
    "        dummy_head = ListNode()\n",
    "        dummy_head.next = head\n",
    "\n",
    "        # Only one situation\n",
    "        # Loop through the list and change next pointers\n",
    "        cur = dummy_head\n",
    "        while cur.next != None:\n",
    "            if cur.next.val == val:\n",
    "                cur.next = cur.next.next\n",
    "            else:\n",
    "                cur = cur.next\n",
    "\n",
    "        return dummy_head.next"
   ]
  }
 ],
 "metadata": {
  "language_info": {
   "name": "python"
  }
 },
 "nbformat": 4,
 "nbformat_minor": 2
}
