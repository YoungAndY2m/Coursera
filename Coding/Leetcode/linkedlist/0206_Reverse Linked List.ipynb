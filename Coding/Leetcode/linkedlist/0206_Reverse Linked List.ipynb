{
 "cells": [
  {
   "cell_type": "markdown",
   "metadata": {},
   "source": [
    "#### 206. Reverse Linked List\n",
    "Given the head of a singly linked list, reverse the list, and return the reversed list.\n",
    "\n",
    "- Example 1:\n",
    "  - Input: head = [1,2,3,4,5]\n",
    "  - Output: [5,4,3,2,1]\n",
    "- Example 2:\n",
    "  - Input: head = []\n",
    "  - Output: []"
   ]
  },
  {
   "cell_type": "code",
   "execution_count": null,
   "metadata": {},
   "outputs": [],
   "source": [
    "'''\n",
    "Two-pointers\n",
    "'''\n",
    "# Definition for singly-linked list.\n",
    "# class ListNode:\n",
    "#     def __init__(self, val=0, next=None):\n",
    "#         self.val = val\n",
    "#         self.next = next\n",
    "class Solution:\n",
    "    def reverseList(self, head: Optional[ListNode]) -> Optional[ListNode]:\n",
    "        cur, pre = head, None\n",
    "        while cur:\n",
    "            temp = cur.next\n",
    "            cur.next = pre\n",
    "            pre = cur\n",
    "            cur = temp\n",
    "        return pre"
   ]
  },
  {
   "cell_type": "code",
   "execution_count": null,
   "metadata": {},
   "outputs": [],
   "source": [
    "'''\n",
    "Recursion\n",
    "'''\n",
    "# Definition for singly-linked list.\n",
    "# class ListNode:\n",
    "#     def __init__(self, val=0, next=None):\n",
    "#         self.val = val\n",
    "#         self.next = next\n",
    "class Solution:\n",
    "    def reverseList(self, head: Optional[ListNode]) -> Optional[ListNode]:\n",
    "        return self.reverse(head, None)\n",
    "\n",
    "    def reverse(self, cur, pre) -> Optional[ListNode]:\n",
    "        if cur == None: return pre\n",
    "        temp = cur.next\n",
    "        cur.next = pre\n",
    "        return self.reverse(temp, cur)"
   ]
  }
 ],
 "metadata": {
  "language_info": {
   "name": "python"
  }
 },
 "nbformat": 4,
 "nbformat_minor": 2
}
