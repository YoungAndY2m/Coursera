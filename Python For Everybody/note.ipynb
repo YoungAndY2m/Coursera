{
 "cells": [
  {
   "cell_type": "markdown",
   "metadata": {},
   "source": [
    "## Chapter 1 Why should you learn to write programs?\n",
    "\n",
    "### 1.1 Creativity and Motivation\n",
    "- PDA (Personal Digital Assistant)\n",
    "### 1.2 Computer hardware architecture\n",
    "![hardware architecture](images/hardware.png)\n",
    "![handwritten](images/hardware%20structure.PNG)\n",
    "1. CPU (Central Processing Unit): \n",
    "    - ask \"what's next?\"\n",
    "    - circuit with transistors\n",
    "    - runs the program\n",
    "    - e.g. 3.0 Gigahertz = 3 billion/sec\n",
    "2. Main Memory\n",
    "    - store information that CPU needs\n",
    "    - tells what to do next\n",
    "    - information lost on reboot\n",
    "3. Secondary Memory\n",
    "    - store information, much slower than main memory\n",
    "    - store information permanently\n",
    "    - dis drive / memory stick\n",
    "    - feed instructions\n",
    "4. I/O Devices\n",
    "    - screen, keyboard, mouse, microphone, speaker, touchpad, etc.\n",
    "    - ways to interact with the computer\n",
    "5. Network Connection\n",
    "    - slow place to store/retrieve data\n",
    "    - slower and at times unreliable form of Secondary Memory\n",
    "6. Program\n",
    "    - stored instruction\n",
    "7. Programming\n",
    "    - writing the instructions down and getting the instructions to be correct\n",
    "### 1.3 Understanding Programming\n",
    "- Program is the story, and problem trying to solve is the idea\n",
    "### 1.4 Words and Sentences\n",
    "- Reserved words: Already have the specific meaning\n",
    "- Variables\n",
    "### 1.5 Conversing with Python\n",
    "- print()\n",
    "- quit()\n",
    "### 1.6 Terminology: Interpreter and Compiler\n",
    "- Machine language: \n",
    "    - binary\n",
    "    - NOT portable\n",
    "- Interpreter: reads the source code, parse, interprets the instruction\n",
    "    - ordered sequence of statements\n",
    "- Variable: Label used to the stored data\n",
    "- Compiler: run the entire program, tranlsate into machine language, puts the result into a file for later execution\n",
    "    - .exe: executable\n",
    "    - .dll: dynamic link library\n",
    "- Python Interpreter: written in C\n",
    "### 1.7 Writing a program\n",
    "- Script: use a text editor to write the Python instructions into a file, ends with .py\n",
    "    - no need for quit()\n",
    "### 1.8 What is a program\n",
    "- Program\n",
    "    - a sequence of Python statements that have been crafted to do something\n",
    "### 1.9 The building blocks of program\n",
    "1. input: get data from the outside world\n",
    "2. output: display the results on screen/store in a file\n",
    "3. sequential execution: Perform statements one after another in the order they are encountered in the script\n",
    "4. conditional execution: Check for certain conditions and then execute or skip a sequence of statements.\n",
    "5. Repeated execution: Perform some set of statements repeatedly, usually with some variation.\n",
    "6. Reuse: Write a set of instructions once and give them a name and then reuse those instructions as needed throughout your program.\n",
    "### 1.10 What could possibly go wrong\n",
    "1. Syntax errors\n",
    "2. Logic errors\n",
    "3. Semantic errors\n",
    "### 1.11 Debugging\n",
    "- Reading\n",
    "- Running: Experiment\n",
    "- Ruminating: Think\n",
    "- Retreating: Undo, do again\n",
    "### 1.12 The learning journey\n",
    "### Glossary\n",
    "1. bug: An error in a program.\n",
    "2. central processing unit: The heart of any computer. It is what runs the software that we write; also called “CPU” or “the processor”.\n",
    "3. compile: To translate a program written in a high-level language into a low-level language all at once, in preparation for later execution.\n",
    "4. high-level language: A programming language like Python that is designed to be easy for humans to read and write.\n",
    "5. interactive mode: A way of using the Python interpreter by typing commands and expressions at the prompt.\n",
    "6. interpret: To execute a program in a high-level language by translating it one line at a time.\n",
    "7. low-level language: A programming language that is designed to be easy for a computer to execute; also called “machine code” or “assembly language”.\n",
    "8. machine code: The lowest-level language for software, which is the language that is directly executed by the central processing unit (CPU).\n",
    "9. main memory: Stores programs and data. Main memory loses its information when the power is turned off.\n",
    "10. parse: To examine a program and analyze the syntactic structure.\n",
    "11. portability: A property of a program that can run on more than one kind of computer.\n",
    "12. print function: An instruction that causes the Python interpreter to display a value on the screen.\n",
    "13. problem solving: The process of formulating a problem, finding a solution, and expressing the solution.\n",
    "14. program: A set of instructions that specifies a computation.\n",
    "15. prompt: When a program displays a message and pauses for the user to type some input to the program.\n",
    "16. secondary memory: Stores programs and data and retains its information even when the power is turned off. Generally slower than main memory. Examples of secondary memory include disk drives and flash memory in USB sticks.\n",
    "17. semantics: The meaning of a program.\n",
    "18. semantic error: An error in a program that makes it do something other than what the programmer intended.\n",
    "19. source code: A program in a high-level language.\n",
    "\n",
    "![reserved words](images/reserved%20words.png)"
   ]
  },
  {
   "cell_type": "markdown",
   "metadata": {},
   "source": [
    "## Highlights\n",
    "1. Division\n",
    "    - / (Python 2.0) == // (Python 3.0): Used floored division\n",
    "    - / (Python 3.0) returns floating number\n",
    "2. Rules of precedence: PEMDAS\n",
    "    - Parentheses\n",
    "    - Exponentiation\n",
    "    - Multiplication and Division\n",
    "    - Addition and Subtraction\n",
    "    - Left to right\n",
    "3. Any nonzero number is interpreted as “true.”\n",
    "4. pass: does nothing\n",
    "5. QA (Quality Assurance) team: do the craziest things and attempt to break the software\n",
    "6. Most list method modifies the argument and returns None\n",
    "7. DSU\n",
    "    - Decorate a sequence by building a list of tuples with one or more sort keys preceding the elements from the sequence,\n",
    "    - Sort the list of tuples using the Python built-in sort, and\n",
    "    - Undecorate by extracting the sorted elements of the sequence\n",
    "8. Immutable ~= Hashable -> return a same hash value\n",
    "9. Greedy matching: Match all possible, the longest match\n",
    "    - Non-greedy: the shortest match\n",
    "10. Fine-Tuning String Extraction: use (), only extract things within ()\n"
   ]
  },
  {
   "cell_type": "markdown",
   "metadata": {},
   "source": [
    "## Glossary\n",
    "- Chapter 1\n",
    "\n",
    "![glossary_1_1](images/glossary_1_!.png)\n",
    "![glossary_1_2](images/glossary_1_2.png)\n",
    "\n",
    "- Chapter 2\n",
    "\n",
    "![glossary_2_1](images/glossary_2_1.png)\n",
    "![glossary_2_2](images/glossary_2_2.png)\n",
    "\n",
    "- Chapter 3\n",
    "\n",
    "![glossary_3_1](images/glossary_3_1.png)\n",
    "![glossary_3_2](images/glossary_3_2.png)\n",
    "\n",
    "- Chapter 4\n",
    "\n",
    "![glossary_4_1](images/glossary_4_1.png)\n",
    "\n",
    "- Chapter 5\n",
    "\n",
    "![glossary_5_1](images/glossary_5_1.png)\n",
    "\n",
    "- Chapter 6\n",
    "\n",
    "![glossary_6_1](images/glossary_6_1.png)\n",
    "![glossary_6_2](images/glossary_6_2.png)\n",
    "\n",
    "- Chapter 7\n",
    "\n",
    "![glossary_7_1](images/glossary_7_1.png)\n",
    "\n",
    "- Chapter 8\n",
    "\n",
    "![glossary_8_1](images/glossary_8_1.png)\n",
    "\n",
    "- Chapter 9\n",
    "\n",
    "![glossary_9_1](images/glossary_9_1.png)\n",
    "\n",
    "- Chapter 10\n",
    "\n",
    "![glossary_10_1](images/glossary_10_1.png)\n",
    "\n",
    "- Chapter 11\n",
    "\n",
    "![glossary_11_1](images/glossary_11_1.png)\n",
    "![glossary_11_2](images/glossary_11_2.png)\n",
    "![glossary_11_3](images/glossary_11_3.png)\n",
    "![glossary_11_4](images/glossary_11_4.png)\n",
    "![glossary_11_5](images/glossary_11_5.png)\n"
   ]
  },
  {
   "cell_type": "code",
   "execution_count": 7,
   "metadata": {},
   "outputs": [
    {
     "name": "stdout",
     "output_type": "stream",
     "text": [
      "<class 'NoneType'>\n",
      "NEW\n",
      "Python has 002 quote types.\n"
     ]
    }
   ],
   "source": [
    "print(type(None))\n",
    "\n",
    "word = \"new\"\n",
    "print(word.upper())\n",
    "\n",
    "# Format operator\n",
    "print('%(language)s has %(number)03d quote types.' %\n",
    "      {'language': \"Python\", \"number\": 2})"
   ]
  },
  {
   "cell_type": "code",
   "execution_count": 8,
   "metadata": {},
   "outputs": [
    {
     "name": "stdout",
     "output_type": "stream",
     "text": [
      "<_io.TextIOWrapper name='newFile.txt' mode='w' encoding='cp1252'>\n",
      "10\n"
     ]
    }
   ],
   "source": [
    "# newFile = open('newFile.txt', 'w')\n",
    "# print(newFile)\n",
    "# print(newFile.write(\"something\\n\"))\n",
    "# newFile.close()"
   ]
  },
  {
   "cell_type": "code",
   "execution_count": 14,
   "metadata": {},
   "outputs": [
    {
     "name": "stdout",
     "output_type": "stream",
     "text": [
      "1 \t r 3 \n",
      " 4\n",
      "'1 \\t r 3 \\n 4'\n",
      "None\n",
      "['1', '2', '3']\n",
      "<class 'tuple'>\n",
      "<class 'str'>\n"
     ]
    }
   ],
   "source": [
    "s = '1 \\t r 3 \\n 4'\n",
    "print(s)\n",
    "print(repr(s)) # representation of string\n",
    "\n",
    "# l.sort() returns None (void)\n",
    "l = [\"1\", \"2\", \"3\"]\n",
    "print(l.sort())\n",
    "print(l)\n",
    "\n",
    "# format: delimiter.join(list)\n",
    "delimiter = ' '\n",
    "delimiter.join(l)\n",
    "\n",
    "# single tuple ends with a comma\n",
    "t1 = ('a',)\n",
    "print(type(t1))\n",
    "t2 = ('a')\n",
    "print(type(t2))"
   ]
  },
  {
   "cell_type": "code",
   "execution_count": 15,
   "metadata": {},
   "outputs": [
    {
     "name": "stdout",
     "output_type": "stream",
     "text": [
      "['yonder', 'window', 'breaks', 'light', 'what', 'soft', 'but', 'in']\n"
     ]
    }
   ],
   "source": [
    "txt = 'but soft what light in yonder window breaks'\n",
    "words = txt.split()\n",
    "t = list()\n",
    "for word in words:\n",
    "    t.append((len(word), word))\n",
    "    \n",
    "t.sort(reverse=True)\n",
    "\n",
    "res = list()\n",
    "for length, word in t:\n",
    "    res.append(word)\n",
    "print(res)"
   ]
  }
 ],
 "metadata": {
  "kernelspec": {
   "display_name": "Python 3",
   "language": "python",
   "name": "python3"
  },
  "language_info": {
   "codemirror_mode": {
    "name": "ipython",
    "version": 3
   },
   "file_extension": ".py",
   "mimetype": "text/x-python",
   "name": "python",
   "nbconvert_exporter": "python",
   "pygments_lexer": "ipython3",
   "version": "3.11.4"
  }
 },
 "nbformat": 4,
 "nbformat_minor": 2
}
