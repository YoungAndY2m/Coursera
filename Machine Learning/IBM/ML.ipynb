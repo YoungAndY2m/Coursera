{
 "cells": [
  {
   "cell_type": "markdown",
   "metadata": {},
   "source": [
    "#### Machine Learning\n",
    "1. Machine Learning - the subfield of computer science that gives \"computers the ability to learn without being explicitly programmed.\"\n",
    "    - Regression/Estimation - predict continuous values\n",
    "    - Classification - predict the item class/category of a case\n",
    "    - Clustering - find the data structure, summarization\n",
    "    - Association - associate frequent co-occurring items/events\n",
    "    - Anomaly detection - discover abnormal and unusual cases\n",
    "    - Sequence mining - predict next events; click-stream (Markov Model, HMM)\n",
    "    - Dimension reduction - reduce the size of data (PCA)\n",
    "    - Recommendation systems - recommend items\n",
    "2. Python libraries\n",
    "    - NumPy - a math library to work with N-dimensional arrays in Python\n",
    "    - SciPy - a collection of numerical algorithms and domain specific toolboxes, including signal processing, optimization, and statistics, and more. Good for scientific and high performance computation\n",
    "    - Matplotlib - plotting package that provides 2D/3D plotting\n",
    "\n"
   ]
  }
 ],
 "metadata": {
  "language_info": {
   "name": "python"
  }
 },
 "nbformat": 4,
 "nbformat_minor": 2
}
