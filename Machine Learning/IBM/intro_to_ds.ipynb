{
 "cells": [
  {
   "cell_type": "markdown",
   "metadata": {},
   "source": [
    "#### Data Science\n",
    "1. Data Science\n",
    "    - Gleaning insigh from data (clarify problem, data collection, analysis, recognition, storytelling, visualization)\n",
    "2. Glossary\n",
    "![glossary](images/glossary.png)\n",
    "![glossary](images/glossary_2.png)\n",
    "![glossary](images/glossary_3.png)\n",
    "![glossary](images/glossary_4.png)\n",
    "![summary](images/summary.png)\n",
    "3. Cloud computing\n",
    "    - Delivery of on-demand computing resources (Networks, Servers, Storage, Applications, Services, Data centers) over the internet on a pay-for-use basis\n",
    "    - Applications and data that users access over the INternet rather than locally\n",
    "    - Characteristics\n",
    "        - on-demand self-service\n",
    "        - broad network access\n",
    "        - resource pooling\n",
    "        - rapid elasticity\n",
    "        - measured service\n",
    "    - Using technology as a service by leveraging remote systems on-demand over the Internet\n",
    "    - Deployment models:\n",
    "        - public cloud\n",
    "        - private cloud\n",
    "        - hybrid cloud\n",
    "    - Service models\n",
    "        - IaaS (Infrastucture as a Service)\n",
    "        - PaaS (Platform as a Service)\n",
    "        - SaaS (Software as a Service)\n",
    "4. Big data\n",
    "    - (Ernst and Young) Dynamic, large and disparate volumes of data being created by people, tools, and machines\n",
    "    - 5 V's\n",
    "        1. Velocity\n",
    "        2. Variety\n",
    "        3. Veracity\n",
    "        4. Value\n",
    "        5. Volume\n"
   ]
  }
 ],
 "metadata": {
  "language_info": {
   "name": "python"
  }
 },
 "nbformat": 4,
 "nbformat_minor": 2
}
