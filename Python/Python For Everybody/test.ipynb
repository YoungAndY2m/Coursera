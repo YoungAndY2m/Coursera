{
 "cells": [
  {
   "cell_type": "markdown",
   "metadata": {},
   "source": [
    "这段代码是在Python中使用sys.argv来获取命令行参数。sys.argv是一个Python中的列表，它存储了命令行参数传递给脚本的信息。\n",
    "\n",
    "在这个例子中，sys.argv是一个包含命令行参数的列表。sys.argv[0]通常是脚本的名称，而其他元素则是在运行脚本时传递的参数。通过sys.argv[1]，这段代码试图获取传递给脚本的第一个参数，并将其赋值给变量name。\n",
    "\n",
    "python script.py John\n",
    "\n",
    "那么sys.argv[0]将是script.py，而sys.argv[1]将是John。在这个例子中，变量name会被赋值为'John'。"
   ]
  },
  {
   "cell_type": "code",
   "execution_count": 7,
   "metadata": {},
   "outputs": [
    {
     "name": "stdout",
     "output_type": "stream",
     "text": [
      "Count: 2\n",
      "Type: <class 'list'>\n"
     ]
    }
   ],
   "source": [
    "import sys\n",
    "\n",
    "name = sys.argv[1]\n",
    "\n",
    "print('Count:', len(sys.argv))\n",
    "print('Type:', type(sys.argv)) # list of strings"
   ]
  },
  {
   "cell_type": "code",
   "execution_count": 4,
   "metadata": {},
   "outputs": [
    {
     "name": "stdout",
     "output_type": "stream",
     "text": [
      "Error, invalid input\n",
      "0 0\n"
     ]
    }
   ],
   "source": [
    "# Count average\n",
    "total = 0\n",
    "count = 0\n",
    "while True:\n",
    "    num = input(\"Enter: \")\n",
    "    if num.lower() == \"done\": break\n",
    "    try:\n",
    "        addNum = float(num)\n",
    "    except:\n",
    "        print(\"Error, invalid input\")\n",
    "        continue\n",
    "    total += addNum\n",
    "    count += 1\n",
    "print(total, count)\n",
    "\n",
    "## String修改完return自己，List修改完return None\n",
    "    "
   ]
  },
  {
   "cell_type": "code",
   "execution_count": 8,
   "metadata": {},
   "outputs": [
    {
     "name": "stdout",
     "output_type": "stream",
     "text": [
      "d\n",
      "s\n",
      "enter\n"
     ]
    }
   ],
   "source": [
    "# Copy till done\n",
    "while True:\n",
    "    enter = input(\"> \")\n",
    "    if enter == \"done\": break\n",
    "    if enter.startswith(\"#\"): continue\n",
    "    print(enter)"
   ]
  },
  {
   "cell_type": "code",
   "execution_count": 11,
   "metadata": {},
   "outputs": [
    {
     "name": "stdout",
     "output_type": "stream",
     "text": [
      "[(61, 'i'), (42, 'and'), (40, 'romeo'), (34, 'to'), (34, 'the'), (32, 'thou'), (32, 'juliet'), (30, 'that'), (29, 'my'), (24, 'thee')]\n"
     ]
    }
   ],
   "source": [
    "# Count # of words in romeo-full.txt\n",
    "import string\n",
    "\n",
    "file = \"romeo-full.txt\"\n",
    "\n",
    "# make sure file exists\n",
    "try:\n",
    "    handle = open(file, 'r')\n",
    "except:\n",
    "    print(\"No such file\")\n",
    "    \n",
    "# start the counting, use a dictionary\n",
    "word_count = dict()\n",
    "for line in handle:\n",
    "    line = line.translate(str.maketrans(\"\", \"\", string.punctuation))\n",
    "    words = line.strip().lower().split()\n",
    "    for word in words:\n",
    "        count = word_count.get(word, 0) + 1\n",
    "        word_count[word] = count\n",
    "\n",
    "# reverse, get the largest 10\n",
    "tuple_list = list()\n",
    "for key, value in word_count.items():\n",
    "    tuple_list.append((value, key))\n",
    "tuple_list.sort(reverse=True)\n",
    "print(tuple_list[:10])\n",
    "    "
   ]
  },
  {
   "cell_type": "code",
   "execution_count": 18,
   "metadata": {},
   "outputs": [],
   "source": [
    "# open http://data.pr4e.org/cover3.jpg\n",
    "import urllib.request, urllib.parse, urllib.error\n",
    "\n",
    "img = urllib.request.urlopen('http://data.pr4e.org/cover3.jpg').read()\n",
    "fhand = open('cover3.jpg', 'wb')\n",
    "fhand.write(img)\n",
    "fhand.close()\n"
   ]
  },
  {
   "cell_type": "code",
   "execution_count": 25,
   "metadata": {},
   "outputs": [],
   "source": [
    "# create a database music table, with name Text attribute\n",
    "import sqlite3\n",
    "\n",
    "handle = sqlite3.connect(\"music.sqlite\")\n",
    "cursor = handle.cursor()\n",
    "\n",
    "cursor.execute(\"DROP TABLE IF EXISTS Musicians\")\n",
    "cursor.execute(\"CREATE TABLE Musicians (name TEXT, id INTEGER PRIMARY KEY AUTOINCREMENT NOT NULL UNIQUE)\")\n",
    "\n",
    "\n",
    "handle.close()"
   ]
  },
  {
   "cell_type": "code",
   "execution_count": 30,
   "metadata": {},
   "outputs": [
    {
     "name": "stdout",
     "output_type": "stream",
     "text": [
      "Musicians:\n",
      "('Yang', 1)\n",
      "('Yang', 2)\n",
      "('Yang', 3)\n",
      "('Yang', 4)\n"
     ]
    }
   ],
   "source": [
    "# insert data\n",
    "handle = sqlite3.connect(\"music.sqlite\")\n",
    "cursor = handle.cursor()\n",
    "\n",
    "name = \"Yang\"\n",
    "cursor.execute(\"INSERT INTO Musicians (name) VALUES (?)\", (name,)) # 单个tuple一定要写成（var，）\n",
    "handle.commit()\n",
    "\n",
    "print(\"Musicians:\")\n",
    "# Sqlite3中 % 是通配符，用WHERE attr LIKE ‘sth’\n",
    "cursor.execute(\"SELECT * FROM Musicians WHERE name LIKE 'Y%'\")\n",
    "for row in cursor:\n",
    "    print(row)\n",
    "\n",
    "\n",
    "handle.close()"
   ]
  },
  {
   "cell_type": "code",
   "execution_count": 42,
   "metadata": {},
   "outputs": [
    {
     "name": "stdout",
     "output_type": "stream",
     "text": [
      "('cwen@iupui.edu', 5)\n",
      "('zqian@umich.edu', 4)\n",
      "('david.horwitz@uct.ac.za', 4)\n",
      "('louis@media.berkeley.edu', 3)\n",
      "('gsilver@umich.edu', 3)\n",
      "('stephen.marquard@uct.ac.za', 2)\n",
      "('rjlowe@iupui.edu', 2)\n",
      "('wagnermr@iupui.edu', 1)\n",
      "('antranig@caret.cam.ac.uk', 1)\n",
      "('gopal.ramasammycook@gmail.com', 1)\n"
     ]
    }
   ],
   "source": [
    "# mbox-short.txt emaildb.py\n",
    "import sqlite3\n",
    "import string\n",
    "import time\n",
    "\n",
    "connect = sqlite3.connect(\"emaildb2.sqlite\")\n",
    "cursor = connect.cursor()\n",
    "\n",
    "cursor.executescript(\"\"\"\n",
    "    DROP TABLE IF EXISTS Counts;\n",
    "    CREATE TABLE Counts (email TEXT, count INTEGER, id INTEGER PRIMARY KEY AUTOINCREMENT);\n",
    "                     \"\"\") # PRIMARY KEY要写在AUTOINCREMENT前面\n",
    "\n",
    "file = \"mbox-short.txt\"\n",
    "handle = open(file, 'r')\n",
    "\n",
    "count = 0\n",
    "for line in handle:\n",
    "    if not line.startswith(\"From: \"): continue\n",
    "    words = line.strip().split()\n",
    "    # print(words)\n",
    "    email = words[1]\n",
    "    \n",
    "    # check whether the email exists\n",
    "    cursor.execute(\"SELECT * FROM Counts WHERE email == ?\", (email,))\n",
    "    row = cursor.fetchone()\n",
    "    if row is None: # No email -> insert\n",
    "        cursor.execute(\"INSERT INTO Counts (email, count) VALUES (?, ?)\", (email, 1))\n",
    "    else: # exist email -> update count\n",
    "        cursor.execute(\"UPDATE Counts SET count = count + 1 WHERE email == ?\", (email, ))\n",
    "    \n",
    "    count += 1\n",
    "    if count % 10 == 0: time.sleep(5)\n",
    "    connect.commit() # ONLY CONNECTION COMMIT\n",
    "\n",
    "# check the first ten counts\n",
    "cursor.execute(\"SELECT email, count FROM Counts ORDER BY count DESC LIMIT 10\")\n",
    "rows = cursor.fetchall()\n",
    "for row in rows:\n",
    "    print(row)\n",
    "\n",
    "handle.close()"
   ]
  },
  {
   "cell_type": "markdown",
   "metadata": {},
   "source": [
    "这段代码是针对 Python 中对 SSL 证书的处理，通常用于在进行 HTTPS 请求时忽略 SSL 证书的验证过程。\n",
    "\n",
    "ssl.create_default_context()：创建了一个 SSL 上下文。SSL 上下文是一个 SSL 配置环境，用于设置 SSL 连接的各种选项。\n",
    "\n",
    "ctx.check_hostname = False：将 SSL 上下文中的 check_hostname 属性设置为 False。这个属性控制是否检查服务器的主机名与证书中的主机名匹配。将其设置为 False 可以忽略主机名检查。\n",
    "\n",
    "ctx.verify_mode = ssl.CERT_NONE：将 SSL 上下文中的 verify_mode 属性设置为 ssl.CERT_NONE。这个属性控制 SSL 证书的验证模式。将其设置为 ssl.CERT_NONE 表示不对证书进行验证，即不验证服务器的 SSL 证书的有效性。\n",
    "\n",
    "这段代码的目的是在创建 SSL 连接时，不进行证书的验证，通常在一些特殊情况下使用，比如在测试阶段、或者对证书的有效性不是特别关注的情况下，临时忽略证书验证。但请注意，在生产环境中，应该避免关闭 SSL 证书验证，以确保通信的安全性。"
   ]
  },
  {
   "cell_type": "code",
   "execution_count": null,
   "metadata": {},
   "outputs": [],
   "source": [
    "import ssl\n",
    "# Ignore SSL certificate errors\n",
    "ctx = ssl.create_default_context()\n",
    "ctx.check_hostname = False\n",
    "ctx.verify_mode = ssl.CERT_NONE\n",
    "\n",
    "# encode the parameters for usl\n",
    "url = \"url\" + urllib.parse.urlencode(dict())\n",
    "urlHandle = urllib.request.urlopen(url, context=ctx)"
   ]
  },
  {
   "cell_type": "markdown",
   "metadata": {},
   "source": [
    "\n",
    "这段代码创建了一个 TCP/IP 类型的套接字（socket）对象，用于网络通信。\n",
    "\n",
    "在 Python 中，使用 socket 模块可以创建各种类型的套接字，包括流式套接字（socket.SOCK_STREAM）和数据报套接字（socket.SOCK_DGRAM）等。\n",
    "socket.AF_INET：指定了套接字的地址族，表示该套接字将使用 IPv4 地址。AF_INET 是表示 IPv4 地址族的常量。\n",
    "\n",
    "socket.SOCK_STREAM：指定了套接字的类型，表示这是一个流式套接字，即 TCP 套接字。SOCK_STREAM 是表示流式套接字的常量。TCP 是一种面向连接的、可靠的、基于字节流的传输协议，适用于需要可靠、有序的数据传输场景。\n",
    "\n",
    "因此，socket.socket(socket.AF_INET, socket.SOCK_STREAM) 创建了一个用于 TCP/IP 网络通信的套接字对象，可以用于建立 TCP 连接、发送和接收数据等操作。"
   ]
  },
  {
   "cell_type": "code",
   "execution_count": 52,
   "metadata": {},
   "outputs": [
    {
     "name": "stdout",
     "output_type": "stream",
     "text": [
      "HTTP/1.1 200 OK\n",
      "Date: Mon, 11 Dec 2023 17:02:08 GMT\n",
      "Server: Apache/2.4.18 (Ubuntu)\n",
      "Last-Modified: Sat, 13 May 2017 11:22:22 GMT\n",
      "ETag: \"a7-54f6609245537\"\n",
      "Accept-Ranges: bytes\n",
      "Content-Length: 167\n",
      "Cache-Control: max-age=0, no-cache, no-store, must-revalidate\n",
      "Pragma: no-cache\n",
      "Expires: Wed, 11 Jan 1984 05:00:00 GMT\n",
      "Connection: close\n",
      "Content-Type: text/plain\n",
      "\n",
      "But soft what light through yonder window breaks\n",
      "It is the east and Juliet is the sun\n",
      "Arise fair sun and kill the envious moon\n",
      "Who is already sick and pale with grief\n"
     ]
    }
   ],
   "source": [
    "import socket\n",
    "\n",
    "mysock = socket.socket(socket.AF_INET, socket.SOCK_STREAM)\n",
    "mysock.connect(('data.pr4e.org', 80))\n",
    "# HTTP/1.0 指代第一页\n",
    "cmd = 'GET http://data.pr4e.org/romeo.txt HTTP/1.0\\r\\n\\r\\n'.encode()\n",
    "mysock.send(cmd)\n",
    "\n",
    "while True:\n",
    "    data = mysock.recv(512)\n",
    "    if len(data) < 1:\n",
    "        break\n",
    "    print(data.decode(),end='')\n",
    "\n",
    "mysock.close()\n"
   ]
  },
  {
   "cell_type": "code",
   "execution_count": 2,
   "metadata": {},
   "outputs": [
    {
     "name": "stdout",
     "output_type": "stream",
     "text": [
      "<re.Match object; span=(0, 5), match='apple'>\n",
      "apple\n",
      "<re.Match object; span=(0, 1), match='a'>\n",
      "None\n",
      "['anana']\n"
     ]
    }
   ],
   "source": [
    "import re\n",
    "matchObj = re.search(\"apple\", \"apple orange\")\n",
    "print(matchObj)\n",
    "print(matchObj.group())\n",
    "matchObj2 = re.match(\"a\", \"apple\")\n",
    "print(matchObj2)\n",
    "print(re.search(\"nothing\", \"dsfd\"))\n",
    "print(re.findall(\"a.*\", \"banana\"))"
   ]
  },
  {
   "cell_type": "code",
   "execution_count": 51,
   "metadata": {},
   "outputs": [
    {
     "name": "stdout",
     "output_type": "stream",
     "text": [
      "-1\n",
      "1\n"
     ]
    }
   ],
   "source": [
    "print(\"string\".find(\"substring\"))\n",
    "print(\"1substring\".find(\"sub\")) # return start pos"
   ]
  },
  {
   "cell_type": "markdown",
   "metadata": {},
   "source": [
    "os.walk() 会返回一个三元组 (当前目录路径, 目录列表, 文件列表)。这个循环会遍历所有文件。"
   ]
  },
  {
   "cell_type": "code",
   "execution_count": null,
   "metadata": {},
   "outputs": [],
   "source": [
    "# txtcheck.py\n",
    "import os\n",
    "from os.path import join\n",
    "for (dirname, dirs, files) in os.walk('.'):\n",
    "    for filename in files:\n",
    "        if filename.endswith('.txt'):\n",
    "            thefile = os.path.join(dirname, filename) # 拼接成完整路径\n",
    "            size = os.path.getsize(thefile)\n",
    "            if size == 2578 or size == 2565:\n",
    "                continue\n",
    "            fhand = open(thefile, 'r')\n",
    "            lines = list()\n",
    "            for line in fhand:\n",
    "                lines.append(line)\n",
    "            fhand.close()\n",
    "            if len(lines) > 1:\n",
    "                print(len(lines), thefile)\n",
    "                print(lines[:4])\n"
   ]
  },
  {
   "cell_type": "code",
   "execution_count": 53,
   "metadata": {},
   "outputs": [
    {
     "name": "stdout",
     "output_type": "stream",
     "text": [
      "Binary:  b'But soft what light through yonder window breaks\\n'\n",
      "But soft what light through yonder window breaks\n",
      "Binary:  b'It is the east and Juliet is the sun\\n'\n",
      "It is the east and Juliet is the sun\n",
      "Binary:  b'Arise fair sun and kill the envious moon\\n'\n",
      "Arise fair sun and kill the envious moon\n",
      "Binary:  b'Who is already sick and pale with grief\\n'\n",
      "Who is already sick and pale with grief\n"
     ]
    }
   ],
   "source": [
    "# http://data.pr4e.org/romeo.txt\n",
    "import urllib.request\n",
    "\n",
    "handle = urllib.request.urlopen(\"http://data.pr4e.org/romeo.txt\")\n",
    "for line in handle:\n",
    "    print(\"Binary: \", line)\n",
    "    print(line.decode().strip())"
   ]
  },
  {
   "cell_type": "code",
   "execution_count": null,
   "metadata": {},
   "outputs": [],
   "source": [
    "# Beautiful Soup 4 handles html file parser\n",
    "# To run this, download the BeautifulSoup zip file\n",
    "# http://www.py4e.com/code3/bs4.zip\n",
    "# and unzip it in the same directory as this file\n",
    "\n",
    "from urllib.request import urlopen\n",
    "from bs4 import BeautifulSoup\n",
    "import ssl\n",
    "\n",
    "# Ignore SSL certificate errors\n",
    "ctx = ssl.create_default_context()\n",
    "ctx.check_hostname = False\n",
    "ctx.verify_mode = ssl.CERT_NONE\n",
    "\n",
    "url = input('Enter - ')\n",
    "html = urlopen(url, context=ctx).read()\n",
    "soup = BeautifulSoup(html, \"html.parser\")\n",
    "\n",
    "# Retrieve all of the anchor tags\n",
    "tags = soup('a')\n",
    "for tag in tags: # LIST OF TAGS\n",
    "    # Look at the parts of a tag\n",
    "    print('TAG:', tag)\n",
    "    print('URL:', tag.get('href', None))\n",
    "    print('Contents:', tag.contents[0])\n",
    "    print('Attrs:', tag.attrs)\n"
   ]
  },
  {
   "cell_type": "code",
   "execution_count": 57,
   "metadata": {},
   "outputs": [
    {
     "name": "stdout",
     "output_type": "stream",
     "text": [
      "Chuck\n",
      "Attr: yes\n",
      "<class 'xml.etree.ElementTree.Element'> \n",
      "\n",
      "User count: 2\n",
      "Name Chuck\n",
      "Id 001\n",
      "Attribute 2\n",
      "Name Brent\n",
      "Id 009\n",
      "Attribute 7\n"
     ]
    }
   ],
   "source": [
    "# xml\n",
    "import xml.etree.ElementTree as ET\n",
    "\n",
    "data = '''\n",
    "<person>\n",
    "  <name>Chuck</name>\n",
    "  <phone type=\"intl\">\n",
    "    +1 734 303 4456\n",
    "  </phone>\n",
    "  <email hide=\"yes\" />\n",
    "</person>'''\n",
    "\n",
    "tree = ET.fromstring(data)\n",
    "print(tree.find(\"name\").text)\n",
    "print('Attr:', tree.find('email').get('hide'))\n",
    "print(type(tree), \"\\n\")\n",
    "\n",
    "input = '''\n",
    "<stuff>\n",
    "  <users>\n",
    "    <user x=\"2\">\n",
    "      <id>001</id>\n",
    "      <name>Chuck</name>\n",
    "    </user>\n",
    "    <user x=\"7\">\n",
    "      <id>009</id>\n",
    "      <name>Brent</name>\n",
    "    </user>\n",
    "  </users>\n",
    "</stuff>'''\n",
    "\n",
    "stuff = ET.fromstring(input) # Top tree node is the first node\n",
    "lst = stuff.findall('users/user')\n",
    "print('User count:', len(lst))\n",
    "\n",
    "for item in lst:\n",
    "    print('Name', item.find('name').text)\n",
    "    print('Id', item.find('id').text)\n",
    "    print('Attribute', item.get('x'))\n"
   ]
  }
 ],
 "metadata": {
  "kernelspec": {
   "display_name": "Python 3",
   "language": "python",
   "name": "python3"
  },
  "language_info": {
   "codemirror_mode": {
    "name": "ipython",
    "version": 3
   },
   "file_extension": ".py",
   "mimetype": "text/x-python",
   "name": "python",
   "nbconvert_exporter": "python",
   "pygments_lexer": "ipython3",
   "version": "3.11.4"
  }
 },
 "nbformat": 4,
 "nbformat_minor": 2
}
